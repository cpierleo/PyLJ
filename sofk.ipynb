{
 "cells": [
  {
   "cell_type": "code",
   "execution_count": 3,
   "id": "b175b24d",
   "metadata": {
    "tags": []
   },
   "outputs": [],
   "source": [
    "from numba import jit\n",
    "import numpy as np\n",
    "import math\n",
    "\n",
    "#@jit(nopython=True, cache=True)\n",
    "#@jit\n",
    "def calc_sofk(rx, ry, rz, nmax):\n",
    "    N = rx.size\n",
    "    cp = np.zeros((3, 2 * nmax + 1, N))\n",
    "    sp = np.zeros((3, 2 * nmax + 1, N))\n",
    "    cp[:, 0, :] = 1.0     # this is the k=0 vector\n",
    "    # these are the contribution of the first k-vector (1,0,0) and symmetries.\n",
    "    cp[0, 1, :] = np.cos(2 * np.pi * rx[:])\n",
    "    cp[1, 1, :] = np.cos(2 * np.pi * ry[:])\n",
    "    cp[2, 1, :] = np.cos(2 * np.pi * rz[:])\n",
    "    sp[0, 1, :] = np.sin(2 * np.pi * rx[:])\n",
    "    sp[1, 1, :] = np.sin(2 * np.pi * ry[:])\n",
    "    sp[2, 1, :] = np.sin(2 * np.pi * rz[:])\n",
    "    #\n",
    "    # for n in range(nmax-1):\n",
    "    for m in range(2,nmax+1):\n",
    "        cp[:, m, :] = (cp[:, 1, :] * cp[:, m-1, :] -\n",
    "                       sp[:, 1, :] * sp[:, m-1, :])\n",
    "        sp[:, m, :] = (sp[:, 1, :] * cp[:, m-1, :] +\n",
    "                       cp[:, 1, :] * sp[:, m-1, :])\n",
    "    for m in range(1, nmax+1):\n",
    "        # impose the symmetry of cos and sin along the axes\n",
    "        cp[:, -m, :] = cp[:, m, :]\n",
    "        sp[:, -m, :] = - sp[:, m, :]\n",
    "\n",
    "    # these are the sum of cos and sin over particles.\n",
    "    # indices are along the three directions (nx, ny, nz)\n",
    "    csum = np.zeros((nmax+1, 2*nmax+1, 2*nmax+1), dtype=float)\n",
    "    ssum = np.zeros((nmax+1, 2*nmax+1, 2*nmax+1), dtype=float)\n",
    "\n",
    "    for nx in range(0,nmax+1):\n",
    "        for ny in range(-nmax,nmax+1):\n",
    "            for nz in range(-nmax,nmax+1):\n",
    "                csum[nx, ny, nz] = np.sum( cp[0, nx, :] * cp[1, ny, :] * cp[2, nz, :]\n",
    "                                        - cp[0, nx, :] * sp[1, ny, :] * sp[2, nz, :]\n",
    "                                        - sp[0, nx, :] * sp[1, ny, :] * cp[2, nz, :]\n",
    "                                        - sp[0, nx, :] * cp[1, ny, :] * sp[2, nz, :])\n",
    "                ssum[nx, ny, nz] = np.sum( sp[0, nx, :] * cp[1, ny, :] * cp[2, nz, :]\n",
    "                                        + cp[0, nx, :] * sp[1, ny, :] * cp[2, nz, :]\n",
    "                                        + cp[0, nx, :] * cp[1, ny, :] * sp[2, nz, :]\n",
    "                                        - sp[0, nx, :] * sp[1, ny, :] * sp[2, nz, :])\n",
    "#               for k in range(N):\n",
    "#                   csum[nx, ny, nz] += ( cp[0, nx, k] * cp[1, ny, k] * cp[2, nz, k]\n",
    "#                                       - cp[0, nx, k] * sp[1, ny, k] * sp[2, nz, k]\n",
    "#                                       - sp[0, nx, k] * sp[1, ny, k] * cp[2, nz, k]\n",
    "#                                       - sp[0, nx, k] * cp[1, ny, k] * sp[2, nz, k])\n",
    "#                   ssum[nx, ny, nz] += ( sp[0, nx, k] * cp[1, ny, k] * cp[2, nz, k]\n",
    "#                                       + cp[0, nx, k] * sp[1, ny, k] * cp[2, nz, k]\n",
    "#                                       + cp[0, nx, k] * cp[1, ny, k] * sp[2, nz, k]\n",
    "#                                       - sp[0, nx, k] * sp[1, ny, k] * sp[2, nz, k])\n",
    " \n",
    "    sofk = np.zeros((nmax+1, 2*nmax+1, 2*nmax+1), dtype=float)\n",
    "    sofk = (csum**2 + ssum**2) / N\n",
    "    return sofk"
   ]
  },
  {
   "cell_type": "code",
   "execution_count": 4,
   "id": "51c37642-fbb2-4edb-97d1-d8a2a4edca75",
   "metadata": {},
   "outputs": [
    {
     "name": "stdout",
     "output_type": "stream",
     "text": [
      "1\n",
      "2\n",
      "3\n",
      "4\n",
      "5\n",
      "6\n",
      "7\n",
      "8\n",
      "9\n",
      "10\n"
     ]
    },
    {
     "data": {
      "image/png": "[encoded data removed]",
      "text/plain": [
       "<Figure size 432x288 with 1 Axes>"
      ]
     },
     "metadata": {
      "needs_background": "light"
     },
     "output_type": "display_data"
    }
   ],
   "source": [
    "#if __name__ == '__main__':\n",
    "import numpy as np\n",
    "import math\n",
    "from matplotlib.pyplot import plot, show\n",
    "#%matplotlib widget\n",
    "\n",
    "nmax=5    #nmax is the number of maximum k-vec in each direction\n",
    "sofk=np.zeros((nmax+1,2*nmax+1,2*nmax+1))\n",
    "with open('trajectory.xyz') as fdat:\n",
    "    count = 0\n",
    "    part_num = int(fdat.readline())\n",
    "    while part_num != '':\n",
    "        part_num = int(part_num)\n",
    "        count += 1\n",
    "        if (count)%1==0 :\n",
    "            print(count)\n",
    "        rx = np.zeros(part_num)\n",
    "        ry = np.zeros(part_num)\n",
    "        rz = np.zeros(part_num)\n",
    "        #fdat.readline()\n",
    "        Lx, Ly, Lz = [ float(value) for value in fdat.readline().split() ]\n",
    "        for ind in range(part_num):\n",
    "            rx[ind], ry[ind], rz[ind] = [\n",
    "                float(value) for value in fdat.readline().split()[1:]]\n",
    "        sofk+=calc_sofk(rx/Lx,ry/Ly,rz/Lz,nmax)\n",
    "        part_num = fdat.readline()\n",
    "\n",
    "sofk=sofk/count\n",
    "nvec = (nmax+1)*(2*nmax+1)**2\n",
    "kmod = np.zeros(nvec)\n",
    "kvec = np.zeros((3,nvec))\n",
    "sofk_kvec = np.zeros(nvec)\n",
    "ix=-1\n",
    "for nx in range(0,nmax+1):\n",
    "    for ny in range(-nmax,nmax+1):\n",
    "        for nz in range(-nmax,nmax+1):\n",
    "            ix += 1\n",
    "            kmod[ix] = 2*np.pi * np.sqrt((nx/Lx)**2+(ny/Ly)**2+(nz/Lz)**2)\n",
    "            kvec[0,ix] = 2 * np.pi * nx / Lx\n",
    "            kvec[1,ix] = 2 * np.pi * ny / Ly\n",
    "            kvec[2,ix] = 2 * np.pi * nz / Lz\n",
    "            sofk_kvec[ix] = sofk[nx,ny,nz]\n",
    "            #print(ix,kmod[ix],sofk_kvec[ix])\n",
    "\n",
    "sout=np.column_stack( (kmod[np.argsort(kmod)],kvec[0,np.argsort(kmod)],kvec[1,np.argsort(kmod)],kvec[2,np.argsort(kmod)],sofk_kvec[np.argsort(kmod)]) )\n",
    "np.savetxt('sofk.dat',sout[1:,], fmt=('%12.7g','%12.7g','%12.7g','%12.7g','%12.7g'), header=\"    '|k|'  'kx' 'ky' 'kz' 'S(k)'\")\n",
    "\n",
    "#plot(kmod,sofk_kvec,'b.')\n",
    "kappa=kmod[np.argsort(kmod)][1:]\n",
    "sakka=sofk_kvec[np.argsort(kmod)][1:]\n",
    "plot(kappa,sakka,'b.')\n",
    "show()"
   ]
  },
  {
   "cell_type": "code",
   "execution_count": null,
   "id": "aae9ce65-d289-42c3-858e-6eb6705ec3dc",
   "metadata": {},
   "outputs": [],
   "source": []
  }
 ],
 "metadata": {
  "kernelspec": {
   "display_name": "Python 3 (ipykernel)",
   "language": "python",
   "name": "python3"
  },
  "language_info": {
   "codemirror_mode": {
    "name": "ipython",
    "version": 3
   },
   "file_extension": ".py",
   "mimetype": "text/x-python",
   "name": "python",
   "nbconvert_exporter": "python",
   "pygments_lexer": "ipython3",
   "version": "3.9.12"
  },
  "toc-autonumbering": true,
  "toc-showmarkdowntxt": true
 },
 "nbformat": 4,
 "nbformat_minor": 5
}

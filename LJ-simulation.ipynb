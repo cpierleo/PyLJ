{
 "cells": [
  {
   "cell_type": "markdown",
   "metadata": {},
   "source": [
    "## Simulation of Lennard Jones systems"
   ]
  },
  {
   "cell_type": "markdown",
   "metadata": {},
   "source": [
    "### Molecular dynamics at constant Volume and Energy using standard Verlet algorithm"
   ]
  },
  {
   "cell_type": "code",
   "execution_count": null,
   "metadata": {
    "scrolled": false
   },
   "outputs": [],
   "source": [
    "# starting a new simulation with initial condition from fcc lattice [mode=0]\n",
    "from NVE_lj import mdlj\n",
    "mdlj(nstep=10, rho=0.84, m=6, kt=0.694, dt=0.005, freq=1, mode=0)"
   ]
  },
  {
   "cell_type": "code",
   "execution_count": null,
   "metadata": {},
   "outputs": [],
   "source": [
    "# continuation with initial sampling of velocity from Maxwellian [mode=2]\n",
    "from NVE_lj import mdlj\n",
    "mdlj(nstep=200, rho=0.84, m=6, kt=0.694, dt=0.005, freq=20, mode=2)"
   ]
  },
  {
   "cell_type": "code",
   "execution_count": null,
   "metadata": {},
   "outputs": [],
   "source": [
    "# continuation without initial sampling of velocity from Maxwellian [mode=1]\n",
    "from NVE_lj import mdlj\n",
    "mdlj(nstep=2000, rho=0.84, m=6, kt=0.694, dt=0.005, freq=200, mode=1)"
   ]
  },
  {
   "cell_type": "markdown",
   "metadata": {},
   "source": [
    "### Molecular dynamics at constant Volume and Temperature using velocity-Verlet-like algorithm"
   ]
  },
  {
   "cell_type": "code",
   "execution_count": null,
   "metadata": {},
   "outputs": [],
   "source": [
    "# continuation using Nosé(-Hoower) constant temperature dynamics [mode=1]\n",
    "from NVT_lj import mdlj\n",
    "mdlj(nstep=2000, rho=0.84, m=6, kt=0.694, kt_init=.694, dt=0.005, freq=200, mode=1)"
   ]
  },
  {
   "cell_type": "markdown",
   "metadata": {},
   "source": [
    "### Monte Carlo at constant Volume and Temperature using Metropolis algorithm"
   ]
  },
  {
   "cell_type": "code",
   "execution_count": null,
   "metadata": {
    "scrolled": false
   },
   "outputs": [],
   "source": [
    "# continuation [mode=1] using Metropolis Monte Carlo with constant NVT \n",
    "from MC_lj import mclj\n",
    "mclj(nstep=1000, rho=0.84, m=6, kt=0.694, delta=0.15, freq=100, mode=1)"
   ]
  },
  {
   "cell_type": "code",
   "execution_count": null,
   "metadata": {
    "scrolled": false
   },
   "outputs": [],
   "source": [
    "# continuation [mode=1] using Metropolis Monte Carlo with constant NVT \n",
    "from MC_lj import mclj\n",
    "mclj(nstep=2000, rho=0.84, m=6, kt=0.694, delta=0.1, freq=100, mode=1)"
   ]
  },
  {
   "cell_type": "markdown",
   "metadata": {},
   "source": [
    "### Gran Canonical Monte Carlo at constant Volume and chemical potential using Metropolis algorithm"
   ]
  },
  {
   "cell_type": "code",
   "execution_count": null,
   "metadata": {},
   "outputs": [],
   "source": [
    "# Gran Canonical Monte Carlo using Metropolis Monte Carlo with constant NVT  [ mode ? ]\n",
    "from GC_lj import gclj\n",
    "gclj(nstep=2000, mux=0.0075, rho=0.84, m=6, kt=0.694, delta=0.1, freq=100)"
   ]
  },
  {
   "cell_type": "code",
   "execution_count": null,
   "metadata": {
    "scrolled": false
   },
   "outputs": [],
   "source": [
    "# Gran Canonical Monte Carlo using Metropolis Monte Carlo with constant NVT  [ mode ? ]\n",
    "from GC_lj import gclj\n",
    "gclj(nstep=20000, mux=0.0075, rho=0.84, m=6, kt=0.694, delta=0.1, freq=1000)"
   ]
  },
  {
   "cell_type": "code",
   "execution_count": null,
   "metadata": {},
   "outputs": [],
   "source": [
    "# Gran Canonical Monte Carlo using Metropolis Monte Carlo with constant NVT  [ mode ? ]\n",
    "from GC_lj import gclj\n",
    "gclj(nstep=20000, mux=0.007, rho=0.84, m=6, kt=0.694, delta=0.1, freq=1000)"
   ]
  },
  {
   "cell_type": "markdown",
   "metadata": {},
   "source": [
    "### Molecular dynamics at constant pressure and enthalpy using velocity-Verlet-like algorithm"
   ]
  },
  {
   "cell_type": "code",
   "execution_count": null,
   "metadata": {
    "scrolled": false
   },
   "outputs": [],
   "source": [
    "# re-starting a new simulation with initial condition from fcc lattice [mode=0]\n",
    "from NVT_lj import mdlj\n",
    "mdlj(nstep=2000, rho=0.84, m=6, kt=0.694, kt_init=.694, dt=0.005, freq=200, mode=0)"
   ]
  },
  {
   "cell_type": "code",
   "execution_count": null,
   "metadata": {},
   "outputs": [],
   "source": [
    "# continuation using Nosé(-Hoower) constant temperature dynamics [mode=2]\n",
    "from APR_lj import mdlj\n",
    "mdlj(nstep=2000, rho=0.84, m=6, kt=0.694, pres=1., dt=0.005, freq=200, mode=2)"
   ]
  },
  {
   "cell_type": "code",
   "execution_count": null,
   "metadata": {},
   "outputs": [],
   "source": []
  }
 ],
 "metadata": {
  "kernelspec": {
   "display_name": "Python 3 (ipykernel)",
   "language": "python",
   "name": "python3"
  },
  "language_info": {
   "codemirror_mode": {
    "name": "ipython",
    "version": 3
   },
   "file_extension": ".py",
   "mimetype": "text/x-python",
   "name": "python",
   "nbconvert_exporter": "python",
   "pygments_lexer": "ipython3",
   "version": "3.9.12"
  }
 },
 "nbformat": 4,
 "nbformat_minor": 2
}

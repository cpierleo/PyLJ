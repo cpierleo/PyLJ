{
 "cells": [
  {
   "cell_type": "markdown",
   "metadata": {},
   "source": [
    "## Simulation of Lennard Jones systems"
   ]
  },
  {
   "cell_type": "markdown",
   "metadata": {},
   "source": [
    "### Molecular dynamics at constant Volume and Energy using standard Verlet algorithm"
   ]
  },
  {
   "cell_type": "code",
   "execution_count": 1,
   "metadata": {},
   "outputs": [
    {
     "name": "stdout",
     "output_type": "stream",
     "text": [
      "# initial (kinetic) temperature kt =  0.6940\n",
      "# integration time step dt =  0.0050\n",
      "# number of time steps for this run ns =10\n",
      "# reference side of the cubic MD-box L(0) =  10.0943 \n",
      "# number of particles N =864\n",
      "# density rho =  0.8400\n",
      "# number of lattice cells m^3 = 216\n",
      "# lattice parameter a =1.682391\n",
      "# number of particles  864 \n",
      "# sides of md-box L = [ 10.09 10.09 10.09 ]\n",
      "# end of initial fcc lattice construction\n",
      " initial momenta sampled from maxwellian at temperature   0.6940 \n",
      "# starting with box side at initial time L(t=0) =  10.0943 \n",
      "   'time'    'enep'    'enek'  'vir_p'   'enet'        'vcmx'   'vcmy'   'vcmz'\n",
      "    0.000    -6.662     1.054 -2.01e+04 -4845.4307073 8.53e-14 4.26e-14 5.68e-14\n",
      "    0.005     -6.66     1.052 -2.007e+04 -4845.4325195 8.53e-14 4.26e-14 1.14e-13\n",
      "    0.010    -6.656     1.047 -1.997e+04 -4845.4408417 8.53e-14 1.85e-13 1.42e-13\n",
      "    0.015    -6.647     1.039 -1.979e+04 -4845.4554632 8.53e-14 1.56e-13 1.42e-13\n",
      "    0.020    -6.636     1.028 -1.955e+04 -4845.4759656 1.14e-13 2.42e-13 1.71e-13\n",
      "    0.025     -6.62     1.012 -1.923e+04 -4845.5014046 1.42e-13 1.42e-13 1.99e-13\n",
      "    0.030    -6.601    0.9926 -1.884e+04 -4845.5302499 9.95e-14 1.85e-13 2.27e-13\n",
      "    0.035    -6.577    0.9687 -1.837e+04 -4845.5610110 1.71e-13 1.71e-13 1.99e-13\n",
      "    0.040    -6.548      0.94 -1.783e+04 -4845.5895928 1.42e-13 2.13e-13 2.27e-13\n",
      "    0.045    -6.515    0.9064 -1.72e+04 -4845.6109474 1.71e-13 1.71e-13 1.71e-13\n",
      "    0.050    -6.476    0.8677 -1.65e+04 -4845.6185198 1.85e-13 1.71e-13 1.99e-13\n",
      "# average potential energy  ep =    -5696.9 \n",
      "# average kinetic   energy  ek =      851.4 \n",
      "# average (potential, kinetic) virial and pressure  vir= (    -18735,    1702.8)  pres=   -5.5196\n",
      "# for temperature kT =    0.658 over 10 timesteps \n"
     ]
    },
    {
     "data": {
      "image/png": "[encoded data removed]",
      "text/plain": [
       "<Figure size 432x288 with 1 Axes>"
      ]
     },
     "metadata": {
      "needs_background": "light"
     },
     "output_type": "display_data"
    }
   ],
   "source": [
    "# starting a new simulation with initial condition from fcc lattice [mode=0]\n",
    "from NVE_lj import mdlj\n",
    "mdlj(nstep=10, rho=0.84, m=6, kt=0.694, dt=0.005, freq=1, mode=0)"
   ]
  },
  {
   "cell_type": "code",
   "execution_count": null,
   "metadata": {},
   "outputs": [],
   "source": [
    "# continuation with initial sampling of velocity from Maxwellian [mode=2]\n",
    "from NVE_lj import mdlj\n",
    "mdlj(nstep=200, rho=0.84, m=6, kt=0.694, dt=0.005, freq=20, mode=2)"
   ]
  },
  {
   "cell_type": "code",
   "execution_count": null,
   "metadata": {},
   "outputs": [],
   "source": [
    "# continuation without initial sampling of velocity from Maxwellian [mode=1]\n",
    "from NVE_lj import mdlj\n",
    "mdlj(nstep=2000, rho=0.84, m=6, kt=0.694, dt=0.005, freq=200, mode=1)"
   ]
  },
  {
   "cell_type": "markdown",
   "metadata": {},
   "source": [
    "### Molecular dynamics at constant Volume and Temperature using velocity-Verlet-like algorithm"
   ]
  },
  {
   "cell_type": "code",
   "execution_count": null,
   "metadata": {},
   "outputs": [],
   "source": [
    "# continuation using Nosé(-Hoower) constant temperature dynamics [mode=1]\n",
    "from NVT_lj import mdlj\n",
    "mdlj(nstep=2000, rho=0.84, m=6, kt=0.694, kt_init=.694, dt=0.005, freq=200, mode=1)"
   ]
  },
  {
   "cell_type": "markdown",
   "metadata": {},
   "source": [
    "### Monte Carlo at constant Volume and Temperature using Metropolis algorithm"
   ]
  },
  {
   "cell_type": "code",
   "execution_count": 1,
   "metadata": {},
   "outputs": [
    {
     "name": "stdout",
     "output_type": "stream",
     "text": [
      "# temperature kt =  0.6940\n",
      "# maximum displacement =  0.1500\n",
      "# number of moves per particle for this run ns =1000\n",
      "# reference side of the cubic MD-box L(0) =  10.0943 \n",
      "# number of particles  N =864\n",
      "# density rho =  0.8400\n",
      "# number of lattice cells m^3 = 216\n",
      "# lattice parameter a =1.682391\n",
      "# number of particles  864 \n",
      "# sides of md-box L = [ 10.09 10.09 10.09 ]\n",
      "# end of initial fcc lattice construction\n",
      "# initial values enep = -5755.948 virial = -20101.879 \n",
      "     'pas'    'enep'  'virial'   'acc' \n",
      "      100   -5.8468   -6.4168   30.78 \n",
      "      200   -5.7591   -4.8808   30.17 \n",
      "      300   -5.7730   -5.0675   29.82 \n",
      "      400   -5.7886   -5.4170   29.65 \n",
      "      500   -5.7410   -4.3165   29.44 \n",
      "      600   -5.7864   -5.0875   29.30 \n",
      "      700   -5.7533   -4.4087   29.21 \n",
      "      800   -5.7563   -4.4705   29.05 \n",
      "      900   -5.7120   -3.6259   28.91 \n",
      "     1000   -5.6731   -2.7186   28.75 \n",
      "# average potential energy  ep = -5000.627 \n",
      "# average potential virial  vir= -4524.723 \n",
      "# for temperature kT =    0.694 over 1000 timesteps \n"
     ]
    },
    {
     "data": {
      "image/png": "[encoded data removed]",
      "text/plain": [
       "<Figure size 432x288 with 1 Axes>"
      ]
     },
     "metadata": {
      "needs_background": "light"
     },
     "output_type": "display_data"
    }
   ],
   "source": [
    "# continuation [mode=1] using Metropolis Monte Carlo with constant NVT \n",
    "from MC_lj import mclj\n",
    "mclj(nstep=1000, rho=0.84, m=6, kt=0.694, delta=0.15, freq=100, mode=0)"
   ]
  },
  {
   "cell_type": "code",
   "execution_count": 2,
   "metadata": {},
   "outputs": [
    {
     "name": "stdout",
     "output_type": "stream",
     "text": [
      "# temperature kt =  0.6940\n",
      "# maximum displacement =  0.1000\n",
      "# number of moves per particle for this run ns =2000\n",
      "# reference side of the cubic MD-box L(0) =  10.0943 \n",
      "# number of particles  N =864\n",
      "# density rho =  0.8400\n",
      "# initial values enep = -4901.529 virial = -2348.901 \n",
      "     'pas'    'enep'  'virial'   'acc' \n",
      "      100   -5.7217   -3.8097   43.98 \n",
      "      200   -5.7221   -3.4067   43.83 \n",
      "      300   -5.6436   -1.9976   43.76 \n",
      "      400   -5.6169   -1.5596   43.59 \n",
      "      500   -5.6102   -1.4891   43.49 \n",
      "      600   -5.6326   -1.6633   43.29 \n",
      "      700   -5.6197   -1.5014   43.19 \n",
      "      800   -5.6008   -1.1635   43.12 \n",
      "      900   -5.5951   -1.1999   43.07 \n",
      "     1000   -5.5257   -0.0618   42.97 \n",
      "     1100   -5.6129   -1.4400   42.90 \n",
      "     1200   -5.6037   -1.2858   42.84 \n",
      "     1300   -5.5782   -0.9843   42.81 \n",
      "     1400   -5.5138    0.0513   42.80 \n",
      "     1500   -5.5537   -0.4844   42.74 \n",
      "     1600   -5.5597   -0.4256   42.70 \n",
      "     1700   -5.5532   -0.5621   42.66 \n",
      "     1800   -5.5560   -0.8780   42.64 \n",
      "     1900   -5.5923   -1.3299   42.63 \n",
      "     2000   -5.5720   -0.9313   42.60 \n",
      "# average potential energy  ep = -4843.097 \n",
      "# average potential virial  vir= -1228.449 \n",
      "# for temperature kT =    0.694 over 2000 timesteps \n"
     ]
    },
    {
     "data": {
      "image/png": "[encoded data removed]",
      "text/plain": [
       "<Figure size 432x288 with 1 Axes>"
      ]
     },
     "metadata": {
      "needs_background": "light"
     },
     "output_type": "display_data"
    }
   ],
   "source": [
    "# continuation [mode=1] using Metropolis Monte Carlo with constant NVT \n",
    "from MC_lj import mclj\n",
    "mclj(nstep=2000, rho=0.84, m=6, kt=0.694, delta=0.1, freq=100, mode=1)"
   ]
  },
  {
   "cell_type": "markdown",
   "metadata": {},
   "source": [
    "### Gran Canonical Monte Carlo at constant Volume and chemical potential using Metropolis algorithm"
   ]
  },
  {
   "cell_type": "code",
   "execution_count": 3,
   "metadata": {},
   "outputs": [
    {
     "name": "stdout",
     "output_type": "stream",
     "text": [
      "# temperature kt =  0.6940\n",
      "# maximum displacement =  0.1000\n",
      "# number of moves per particle for this run ns =2000\n",
      "# reference side of the cubic MD-box L(0) =  10.0943 \n",
      "# initial number of particles  N = 864 \n",
      "# initial density rho =  0.8400 \n",
      "# initial values enep = -4814.224 virial = -804.666\n",
      "     'pas'    'N'    'enep'  'virial'   'acc'\n",
      "      100    866   -5.5282   -0.0881   14.11\n",
      "      200    862   -5.6248   -2.1645   14.05\n",
      "      300    867   -5.5649   -0.2445   14.09\n",
      "      400    864   -5.6031   -1.3725   14.03\n",
      "      500    859   -5.5449   -1.2857   14.05\n",
      "      600    859   -5.5335   -0.9400   14.11\n",
      "      700    863   -5.5798   -1.1065   14.12\n",
      "      800    872   -5.6198   -0.7648   14.10\n",
      "      900    867   -5.6183   -1.1740   14.08\n",
      "     1000    868   -5.5765   -0.3111   14.07\n",
      "     1100    860   -5.5847   -1.7094   14.06\n",
      "     1200    861   -5.5458   -1.0154   14.07\n",
      "     1300    863   -5.5724   -0.9601   14.09\n",
      "     1400    859   -5.4845   -0.1978   14.09\n",
      "     1500    859   -5.5852   -1.9136   14.11\n",
      "     1600    863   -5.5431   -0.4586   14.11\n",
      "     1700    867   -5.5911   -0.7956   14.10\n",
      "     1800    867   -5.5946   -0.6351   14.09\n",
      "     1900    868   -5.5673   -0.1542   14.08\n",
      "     2000    870   -5.6200   -0.6908   14.07\n",
      "# run:   nstep    <N>      kT    <Ep>     <Vir> \n",
      "#  MC    2000    863  0.6940  -4805.715  -676.339\n"
     ]
    },
    {
     "data": {
      "image/png": "[encoded data removed]",
      "text/plain": [
       "<Figure size 900x300 with 2 Axes>"
      ]
     },
     "metadata": {
      "needs_background": "light"
     },
     "output_type": "display_data"
    }
   ],
   "source": [
    "# Gran Canonical Monte Carlo using Metropolis Monte Carlo with constant NVT  [ mode ? ]\n",
    "from GC_lj import gclj\n",
    "gclj(nstep=2000, mux=0.0075, rho=0.84, m=6, kt=0.694, delta=0.1, freq=100)"
   ]
  },
  {
   "cell_type": "code",
   "execution_count": null,
   "metadata": {},
   "outputs": [
    {
     "name": "stdout",
     "output_type": "stream",
     "text": [
      "# temperature kt =  0.6940\n",
      "# maximum displacement =  0.1000\n",
      "# number of moves per particle for this run ns =20000\n",
      "# reference side of the cubic MD-box L(0) =  10.0943 \n",
      "# initial number of particles  N = 867 \n",
      "# initial density rho =  0.8429 \n",
      "# initial values enep = -4847.514 virial = -791.881\n",
      "     'pas'    'N'    'enep'  'virial'   'acc'\n",
      "     1000    863   -5.5765   -1.2221   13.86\n",
      "     2000    859   -5.5439   -1.2532   14.04\n",
      "     3000    866   -5.5502   -0.2001   14.09\n",
      "     4000    862   -5.5266   -0.4095   14.09\n",
      "     5000    861   -5.5465   -0.8838   14.08\n",
      "     6000    866   -5.5950   -1.1122   14.08\n"
     ]
    }
   ],
   "source": [
    "# Gran Canonical Monte Carlo using Metropolis Monte Carlo with constant NVT  [ mode ? ]\n",
    "from GC_lj import gclj\n",
    "gclj(nstep=20000, mux=0.006, rho=0.84, m=6, kt=0.694, delta=0.1, freq=1000)"
   ]
  },
  {
   "cell_type": "code",
   "execution_count": null,
   "metadata": {},
   "outputs": [],
   "source": [
    "# Gran Canonical Monte Carlo using Metropolis Monte Carlo with constant NVT  [ mode ? ]\n",
    "from GC_lj import gclj\n",
    "gclj(nstep=20000, mux=0.007, rho=0.84, m=6, kt=0.694, delta=0.1, freq=1000)"
   ]
  },
  {
   "cell_type": "markdown",
   "metadata": {},
   "source": [
    "### Molecular dynamics at constant pressure and enthalpy using velocity-Verlet-like algorithm"
   ]
  },
  {
   "cell_type": "code",
   "execution_count": null,
   "metadata": {},
   "outputs": [],
   "source": [
    "# re-starting a new simulation with initial condition from fcc lattice [mode=0]\n",
    "from NVT_lj import mdlj\n",
    "mdlj(nstep=2000, rho=0.84, m=6, kt=0.694, kt_init=.694, dt=0.005, freq=200, mode=0)"
   ]
  },
  {
   "cell_type": "code",
   "execution_count": null,
   "metadata": {},
   "outputs": [],
   "source": [
    "# continuation using Nosé(-Hoower) constant temperature dynamics [mode=2]\n",
    "from APR_lj import mdlj\n",
    "mdlj(nstep=2000, rho=0.84, m=6, kt=0.694, pres=1., dt=0.005, freq=200, mode=2)"
   ]
  },
  {
   "cell_type": "code",
   "execution_count": null,
   "metadata": {},
   "outputs": [],
   "source": []
  }
 ],
 "metadata": {
  "kernelspec": {
   "display_name": "Python 3 (ipykernel)",
   "language": "python",
   "name": "python3"
  },
  "language_info": {
   "codemirror_mode": {
    "name": "ipython",
    "version": 3
   },
   "file_extension": ".py",
   "mimetype": "text/x-python",
   "name": "python",
   "nbconvert_exporter": "python",
   "pygments_lexer": "ipython3",
   "version": "3.9.12"
  }
 },
 "nbformat": 4,
 "nbformat_minor": 4
}

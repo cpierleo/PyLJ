{
 "cells": [
  {
   "cell_type": "markdown",
   "metadata": {},
   "source": [
    "## Simulation of Lennard Jones systems"
   ]
  },
  {
   "cell_type": "markdown",
   "metadata": {},
   "source": [
    "### Molecular dynamics at constant Volume and Energy using standard Verlet algorithm"
   ]
  },
  {
   "cell_type": "code",
   "execution_count": 3,
   "metadata": {},
   "outputs": [
    {
     "name": "stdout",
     "output_type": "stream",
     "text": [
      "# initial (kinetic) temperature kt =  0.6940\n",
      "# integration time step dt =  0.0050\n",
      "# number of time steps for this run ns =1\n",
      "# reference side of the cubic MD-box L(0) =   3.3648 \n",
      "# number of particles N =32\n",
      "# density rho =  0.8400\n",
      "# number of lattice cells m^3 = 8\n",
      "# lattice parameter a =1.682391\n",
      "# number of particles  32 \n",
      "# sides of md-box L = [ 3.36 3.36 3.36 ]\n",
      "# end of initial fcc lattice construction\n",
      " initial momenta sampled from maxwellian at temperature   0.6940 \n",
      "# starting with box side at initial time L(t=0) =   3.3648 \n",
      "   'time'    'enep'    'enek'  'vir_p'   'enet'        'vcmx'   'vcmy'   'vcmz'\n",
      "    0.000    -5.994    0.9518    -590.5 -161.3385043 5.33e-15 2.66e-15 8.88e-16\n",
      "    0.005        -6     0.955    -590.4 -161.4277745 7.11e-15 3.55e-15 3.55e-15\n",
      "# average potential energy  ep =    -191.99 \n",
      "# average kinetic   energy  ek =     30.559 \n",
      "# average (potential, kinetic) virial and pressure  vir= (   -590.45,    61.118)  pres=   -4.6316\n",
      "# for temperature kT =    0.657 over 1 timesteps \n"
     ]
    },
    {
     "data": {
      "image/png": "[encoded data removed]",
      "text/plain": [
       "<Figure size 432x288 with 1 Axes>"
      ]
     },
     "metadata": {
      "needs_background": "light"
     },
     "output_type": "display_data"
    }
   ],
   "source": [
    "# starting a new simulation with initial condition from fcc lattice [mode=0]\n",
    "from NVE_lj import mdlj\n",
    "mdlj(nstep=1, rho=0.84, m=2, kt=0.694, dt=0.005, freq=1, mode=0)"
   ]
  },
  {
   "cell_type": "code",
   "execution_count": 3,
   "metadata": {},
   "outputs": [
    {
     "name": "stdout",
     "output_type": "stream",
     "text": [
      "# initial (kinetic) temperature kt =  0.6940\n",
      "# integration time step dt =  0.0050\n",
      "# number of time steps for this run ns =2000\n",
      "# reference side of the cubic MD-box L(0) =   3.3648 \n",
      "# number of particles N =32\n",
      "# density rho =  0.8400\n",
      " initial momenta sampled from maxwellian at temperature   0.6940 \n",
      "# starting with box side at initial time L(t=0) =   3.3648 \n",
      "   'time'    'enep'    'enek'  'vir_p'   'enet'        'vcmx'   'vcmy'   'vcmz'\n",
      "    0.000    -5.516     1.104    -193.5 -141.1801138 -3.55e-15 -3.55e-15 -8.88e-16\n",
      "    0.100    -5.394    0.9827    -108.7 -141.1694578 -5.55e-15 -2.22e-15 -1.60e-14\n",
      "    0.200     -5.33    0.9189     -62.2 -141.1646512 -1.49e-14 -3.55e-15 -1.69e-14\n",
      "    0.300    -5.355    0.9435      -102 -141.1559002 -2.13e-14 -6.22e-15 -1.69e-14\n",
      "    0.400     -5.26     0.849    -59.47 -141.1623813 -1.91e-14 -1.78e-15 -1.07e-14\n",
      "    0.500    -5.392    0.9803      -131 -141.1870678 -1.95e-14 6.22e-15 -1.42e-14\n",
      "    0.600    -5.356    0.9437    -108.5 -141.1930932 -2.31e-14 7.99e-15 -8.88e-15\n",
      "    0.700    -5.442      1.03    -149.9 -141.1835027 -2.07e-14 7.11e-15 -8.44e-15\n",
      "    0.800    -5.177    0.7657     14.46 -141.1670952 -6.22e-15 1.07e-14 -1.33e-14\n",
      "    0.900    -5.304    0.8928    -58.56 -141.1439621 -1.24e-14 2.04e-14 -3.29e-14\n",
      "    1.000    -5.352    0.9409     -75.4 -141.1530332 -1.24e-14 1.95e-14 -4.93e-14\n",
      "    1.100    -5.407    0.9957    -118.3 -141.1573393 -5.33e-15 2.13e-14 -5.33e-14\n",
      "    1.200    -5.293    0.8814    -57.93 -141.1600913 -5.33e-15 2.31e-14 -4.71e-14\n",
      "    1.300    -5.228    0.8168    -16.38 -141.1603287 -1.42e-14 2.49e-14 -4.09e-14\n",
      "    1.400    -5.202    0.7907     5.403 -141.1542747 -9.77e-15 2.18e-14 -3.33e-14\n",
      "    1.500    -5.229    0.8178    -31.55 -141.1510164 -1.51e-14 3.02e-14 -3.91e-14\n",
      "    1.600    -5.314    0.9024    -52.43 -141.1582415 -2.22e-14 2.31e-14 -3.82e-14\n",
      "    1.700    -5.148    0.7372     40.61 -141.1505622 -1.15e-14 2.93e-14 -3.38e-14\n",
      "    1.800    -5.222    0.8111    -19.79 -141.1360858 -1.78e-14 2.93e-14 -3.46e-14\n",
      "    1.900    -5.372     0.961    -96.15 -141.1505718 -1.07e-14 2.53e-14 -2.84e-14\n",
      "    2.000    -5.222    0.8117    -15.28 -141.1377553 8.88e-15 2.49e-14 -1.07e-14\n",
      "    2.100    -5.337    0.9264    -104.3 -141.1407671 -9.33e-15 2.31e-14 -1.78e-14\n",
      "    2.200      -5.4    0.9886    -104.2 -141.1545041 -2.49e-14 1.42e-14 -1.51e-14\n",
      "    2.300    -5.353    0.9417    -48.31 -141.1558389 -2.49e-14 9.77e-15 -1.15e-14\n",
      "    2.400    -5.193    0.7824     25.99 -141.1401679 -2.29e-14 3.55e-15 -1.78e-14\n",
      "    2.500    -5.193    0.7825     16.68 -141.1422737 -2.13e-14 2.04e-14 -1.78e-14\n",
      "    2.600    -5.326    0.9152    -64.71 -141.1601317 -2.40e-14 2.13e-14 -2.13e-14\n",
      "    2.700     -5.31    0.8982    -45.14 -141.1711221 -2.75e-14 2.49e-14 -3.20e-14\n",
      "    2.800    -5.273    0.8618     -43.4 -141.1722157 -3.55e-14 2.31e-14 -3.91e-14\n",
      "    2.900    -5.132    0.7207     35.72 -141.1575646 -4.44e-14 3.02e-14 -2.98e-14\n",
      "    3.000    -5.239    0.8272    -15.79 -141.1659179 -4.17e-14 1.87e-14 -3.15e-14\n",
      "    3.100    -5.431     1.019    -134.4 -141.1743843 -3.73e-14 1.78e-14 -3.11e-14\n",
      "    3.200    -5.277    0.8652    -34.29 -141.1663128 -3.02e-14 2.31e-14 -3.55e-14\n",
      "    3.300    -5.189    0.7772     28.16 -141.1668905 -3.11e-14 3.02e-14 -3.55e-14\n",
      "    3.400    -5.264     0.853     -28.7 -141.1670148 -3.55e-14 3.33e-14 -3.73e-14\n",
      "    3.500    -5.177    0.7655      13.5 -141.1712401 -4.09e-14 3.91e-14 -3.24e-14\n",
      "    3.600    -5.277    0.8648    -16.05 -141.1873637 -3.91e-14 3.20e-14 -2.66e-14\n",
      "    3.700    -5.254    0.8421     11.59 -141.1921068 -5.02e-14 2.89e-14 -2.84e-14\n",
      "    3.800    -5.405    0.9926    -83.51 -141.1883660 -4.26e-14 4.09e-14 -2.31e-14\n",
      "    3.900     -5.35    0.9376    -73.43 -141.1846569 -4.17e-14 4.53e-14 -8.88e-15\n",
      "    4.000    -5.245    0.8318    -16.74 -141.2098824 -4.60e-14 5.95e-14 -7.11e-15\n",
      "    4.100    -5.259    0.8461    -10.38 -141.2005730 -3.73e-14 5.42e-14 5.33e-15\n",
      "    4.200    -5.202    0.7902     1.018 -141.1816740 -4.35e-14 4.77e-14 1.78e-15\n",
      "    4.300    -5.464     1.052    -165.2 -141.1898256 -3.02e-14 3.82e-14 6.22e-15\n",
      "    4.400    -5.299    0.8874    -83.54 -141.1842444 -4.09e-14 3.42e-14 7.11e-15\n",
      "    4.500    -5.382    0.9702    -122.9 -141.1936325 -3.64e-14 3.91e-14 1.42e-14\n",
      "    4.600    -5.433     1.021    -140.7 -141.1828963 -3.91e-14 3.73e-14 1.78e-14\n",
      "    4.700    -5.351    0.9392    -108.4 -141.1752749 -4.44e-14 3.38e-14 2.31e-14\n",
      "    4.800    -5.383    0.9719    -116.7 -141.1593254 -3.91e-14 3.20e-14 2.49e-14\n",
      "    4.900    -5.225    0.8138     -26.5 -141.1657125 -2.75e-14 4.62e-14 2.66e-14\n",
      "    5.000    -5.417     1.005    -147.6 -141.1812776 -3.20e-14 5.02e-14 3.02e-14\n",
      "    5.100    -5.408    0.9966    -162.3 -141.1650833 -2.84e-14 5.33e-14 3.20e-14\n",
      "    5.200    -5.358    0.9466    -113.1 -141.1712324 -2.22e-14 6.48e-14 3.38e-14\n",
      "    5.300    -5.325    0.9132    -81.93 -141.1827247 -1.15e-14 6.22e-14 3.73e-14\n",
      "    5.400    -5.344    0.9328    -59.36 -141.1753693 -1.51e-14 6.75e-14 2.75e-14\n",
      "    5.500    -5.183    0.7713     7.645 -141.1693380 -1.78e-14 7.15e-14 3.33e-14\n",
      "    5.600      -5.4    0.9877    -109.7 -141.1809102 -9.77e-15 7.64e-14 3.20e-14\n",
      "    5.700    -5.328    0.9162    -65.69 -141.1827388 -1.07e-14 7.19e-14 3.20e-14\n",
      "    5.800    -5.384    0.9724    -88.47 -141.1829441 -7.99e-15 6.75e-14 1.95e-14\n",
      "    5.900    -5.276    0.8641    -5.936 -141.1841848 -1.24e-14 7.64e-14 2.13e-14\n",
      "    6.000    -5.399    0.9868     -97.3 -141.1955934 -1.33e-14 7.02e-14 1.42e-14\n",
      "    6.100    -5.299    0.8865    -54.09 -141.2030154 -3.55e-15 6.22e-14 1.69e-14\n",
      "    6.200    -5.389    0.9766    -104.4 -141.2118459 -3.55e-15 5.60e-14 1.42e-14\n",
      "    6.300    -5.368    0.9552    -96.19 -141.2219873 -3.55e-15 6.00e-14 1.71e-14\n",
      "    6.400     -5.35    0.9364    -106.7 -141.2242075 1.78e-15 4.97e-14 1.60e-14\n",
      "    6.500     -5.28    0.8669     -68.3 -141.2187123 1.07e-14 4.80e-14 1.24e-14\n",
      "    6.600    -5.286    0.8725     -47.6 -141.2179475 -1.78e-15 5.68e-14 2.53e-14\n",
      "    6.700    -5.416     1.003    -106.2 -141.2063614 -7.99e-15 5.55e-14 2.44e-14\n",
      "    6.800    -5.397    0.9838    -111.4 -141.2083434 -4.44e-15 5.51e-14 2.26e-14\n",
      "    6.900    -5.256    0.8432    -25.22 -141.2096681 -4.44e-16 4.62e-14 2.71e-14\n",
      "    7.000    -5.206    0.7939     12.11 -141.1891217 8.88e-16 4.53e-14 2.62e-14\n",
      "    7.100    -5.505     1.093    -153.1 -141.1926535 -1.11e-14 5.33e-14 2.84e-14\n",
      "    7.200    -5.372    0.9596    -72.55 -141.1852160 -1.07e-14 5.15e-14 2.13e-14\n",
      "    7.300    -5.311    0.8995    -55.66 -141.1748092 -1.60e-14 4.75e-14 9.77e-15\n",
      "    7.400    -5.369    0.9573    -114.2 -141.1687450 -1.24e-14 4.26e-14 1.24e-14\n",
      "    7.500     -5.37     0.959    -123.1 -141.1562908 -1.51e-14 4.88e-14 4.44e-15\n",
      "    7.600    -5.268    0.8564    -49.59 -141.1581553 -2.49e-14 4.26e-14 1.78e-15\n",
      "    7.700    -5.314    0.9028    -68.53 -141.1573243 -4.09e-14 3.91e-14 -8.88e-15\n",
      "    7.800    -5.409    0.9971    -141.7 -141.1672959 -3.95e-14 4.00e-14 1.78e-15\n",
      "    7.900    -5.435     1.023    -149.5 -141.1685313 -3.20e-14 4.13e-14 1.78e-15\n",
      "    8.000    -5.275     0.863    -39.03 -141.1762098 -3.91e-14 4.00e-14 5.33e-15\n",
      "    8.100     -5.43     1.018    -121.3 -141.1775942 -3.55e-14 3.64e-14 0.00e+00\n",
      "    8.200    -5.228    0.8167    -17.37 -141.1668447 -4.13e-14 4.26e-14 -5.33e-15\n",
      "    8.300    -5.331    0.9188    -91.67 -141.1811639 -4.53e-14 5.06e-14 -5.33e-15\n",
      "    8.400    -5.404    0.9924    -116.9 -141.1858848 -4.62e-14 4.62e-14 -3.55e-15\n",
      "    8.500    -5.413     1.002    -105.8 -141.1612693 -6.35e-14 4.26e-14 -1.07e-14\n",
      "    8.600    -5.418     1.006    -125.1 -141.1605250 -5.86e-14 3.29e-14 -1.67e-14\n",
      "    8.700    -5.205    0.7933    -6.604 -141.1651645 -6.04e-14 3.91e-14 -1.69e-14\n",
      "    8.800    -5.473     1.062    -177.1 -141.1660954 -5.77e-14 3.46e-14 -1.95e-14\n",
      "    8.900    -5.397    0.9857    -115.4 -141.1531245 -6.48e-14 4.40e-14 -1.73e-14\n",
      "    9.000    -5.294    0.8835    -44.26 -141.1300560 -7.06e-14 3.55e-14 -1.55e-14\n",
      "    9.100    -5.342    0.9312     -55.8 -141.1480059 -6.39e-14 3.64e-14 -2.58e-14\n",
      "    9.200    -5.335    0.9244    -66.88 -141.1536130 -7.64e-14 3.77e-14 -2.13e-14\n",
      "    9.300    -5.246    0.8347    -26.16 -141.1569632 -8.17e-14 4.00e-14 -2.31e-14\n",
      "    9.400    -5.274    0.8627     -44.8 -141.1473279 -7.55e-14 3.73e-14 -3.24e-14\n",
      "    9.500     -5.12    0.7089      57.5 -141.1554717 -7.55e-14 5.06e-14 -3.64e-14\n",
      "    9.600     -5.17    0.7585     41.71 -141.1596599 -7.99e-14 5.24e-14 -3.55e-14\n",
      "    9.700     -5.33    0.9188       -43 -141.1555632 -8.17e-14 6.31e-14 -3.46e-14\n",
      "    9.800    -5.244    0.8331    -2.217 -141.1582840 -8.35e-14 6.71e-14 -2.66e-14\n",
      "    9.900    -5.288    0.8772    -29.77 -141.1502242 -7.64e-14 5.64e-14 -2.49e-14\n",
      "   10.000    -5.374    0.9634    -89.78 -141.1436267 -8.35e-14 4.49e-14 -2.40e-14\n",
      "# average potential energy  ep =    -170.04 \n",
      "# average kinetic   energy  ek =     28.865 \n",
      "# average (potential, kinetic) virial and pressure  vir= (   -63.245,     57.73)  pres= -0.048253\n",
      "# for temperature kT =    0.621 over 2000 timesteps \n"
     ]
    },
    {
     "data": {
      "image/png": "[encoded data removed]",
      "text/plain": [
       "<Figure size 432x288 with 1 Axes>"
      ]
     },
     "metadata": {
      "needs_background": "light"
     },
     "output_type": "display_data"
    }
   ],
   "source": [
    "# continuation with initial sampling of velocity from Maxwellian [mode=2]\n",
    "from NVE_lj import mdlj\n",
    "mdlj(nstep=200, rho=0.84, m=2, kt=0.4, dt=0.005, freq=1, mode=2)"
   ]
  },
  {
   "cell_type": "code",
   "execution_count": null,
   "metadata": {},
   "outputs": [],
   "source": [
    "# continuation without initial sampling of velocity from Maxwellian [mode=1]\n",
    "from NVE_lj import mdlj\n",
    "mdlj(nstep=2000, rho=0.84, m=6, kt=0.694, dt=0.005, freq=200, mode=1)"
   ]
  },
  {
   "cell_type": "markdown",
   "metadata": {},
   "source": [
    "### Molecular dynamics at constant Volume and Temperature using velocity-Verlet-like algorithm"
   ]
  },
  {
   "cell_type": "code",
   "execution_count": null,
   "metadata": {},
   "outputs": [],
   "source": [
    "# continuation using Nosé(-Hoower) constant temperature dynamics [mode=1]\n",
    "from NVT_lj import mdlj\n",
    "mdlj(nstep=2000, rho=0.84, m=6, kt=0.694, kt_init=.694, dt=0.005, freq=200, mode=1)"
   ]
  },
  {
   "cell_type": "markdown",
   "metadata": {},
   "source": [
    "### Monte Carlo at constant Volume and Temperature using Metropolis algorithm"
   ]
  },
  {
   "cell_type": "code",
   "execution_count": null,
   "metadata": {},
   "outputs": [],
   "source": [
    "# continuation [mode=1] using Metropolis Monte Carlo with constant NVT \n",
    "from MC_lj import mclj\n",
    "mclj(nstep=2000, rho=0.84, m=4, kt=0.8, delta=0.1, freq=200, mode=0)"
   ]
  },
  {
   "cell_type": "code",
   "execution_count": 2,
   "metadata": {},
   "outputs": [
    {
     "name": "stdout",
     "output_type": "stream",
     "text": [
      "# temperature kt =  0.6940\n",
      "# maximum displacement =  0.1000\n",
      "# number of moves per particle for this run ns =2000\n",
      "# reference side of the cubic MD-box L(0) =  10.0943 \n",
      "# number of particles  N =864\n",
      "# density rho =  0.8400\n",
      "# initial values enep = -4901.529 virial = -2348.901 \n",
      "     'pas'    'enep'  'virial'   'acc' \n",
      "      100   -5.7217   -3.8097   43.98 \n",
      "      200   -5.7221   -3.4067   43.83 \n",
      "      300   -5.6436   -1.9976   43.76 \n",
      "      400   -5.6169   -1.5596   43.59 \n",
      "      500   -5.6102   -1.4891   43.49 \n",
      "      600   -5.6326   -1.6633   43.29 \n",
      "      700   -5.6197   -1.5014   43.19 \n",
      "      800   -5.6008   -1.1635   43.12 \n",
      "      900   -5.5951   -1.1999   43.07 \n",
      "     1000   -5.5257   -0.0618   42.97 \n",
      "     1100   -5.6129   -1.4400   42.90 \n",
      "     1200   -5.6037   -1.2858   42.84 \n",
      "     1300   -5.5782   -0.9843   42.81 \n",
      "     1400   -5.5138    0.0513   42.80 \n",
      "     1500   -5.5537   -0.4844   42.74 \n",
      "     1600   -5.5597   -0.4256   42.70 \n",
      "     1700   -5.5532   -0.5621   42.66 \n",
      "     1800   -5.5560   -0.8780   42.64 \n",
      "     1900   -5.5923   -1.3299   42.63 \n",
      "     2000   -5.5720   -0.9313   42.60 \n",
      "# average potential energy  ep = -4843.097 \n",
      "# average potential virial  vir= -1228.449 \n",
      "# for temperature kT =    0.694 over 2000 timesteps \n"
     ]
    },
    {
     "data": {
      "image/png": "[encoded data removed]",
      "text/plain": [
       "<Figure size 432x288 with 1 Axes>"
      ]
     },
     "metadata": {
      "needs_background": "light"
     },
     "output_type": "display_data"
    }
   ],
   "source": [
    "# continuation [mode=1] using Metropolis Monte Carlo with constant NVT \n",
    "from MC_lj import mclj\n",
    "mclj(nstep=2000, rho=0.84, m=6, kt=0.694, delta=0.1, freq=100, mode=1)"
   ]
  },
  {
   "cell_type": "markdown",
   "metadata": {},
   "source": [
    "### Gran Canonical Monte Carlo at constant Volume and chemical potential using Metropolis algorithm"
   ]
  },
  {
   "cell_type": "code",
   "execution_count": 3,
   "metadata": {},
   "outputs": [
    {
     "name": "stdout",
     "output_type": "stream",
     "text": [
      "# temperature kt =  0.6940\n",
      "# maximum displacement =  0.1000\n",
      "# number of moves per particle for this run ns =2000\n",
      "# reference side of the cubic MD-box L(0) =  10.0943 \n",
      "# initial number of particles  N = 864 \n",
      "# initial density rho =  0.8400 \n",
      "# initial values enep = -4814.224 virial = -804.666\n",
      "     'pas'    'N'    'enep'  'virial'   'acc'\n",
      "      100    866   -5.5282   -0.0881   14.11\n",
      "      200    862   -5.6248   -2.1645   14.05\n",
      "      300    867   -5.5649   -0.2445   14.09\n",
      "      400    864   -5.6031   -1.3725   14.03\n",
      "      500    859   -5.5449   -1.2857   14.05\n",
      "      600    859   -5.5335   -0.9400   14.11\n",
      "      700    863   -5.5798   -1.1065   14.12\n",
      "      800    872   -5.6198   -0.7648   14.10\n",
      "      900    867   -5.6183   -1.1740   14.08\n",
      "     1000    868   -5.5765   -0.3111   14.07\n",
      "     1100    860   -5.5847   -1.7094   14.06\n",
      "     1200    861   -5.5458   -1.0154   14.07\n",
      "     1300    863   -5.5724   -0.9601   14.09\n",
      "     1400    859   -5.4845   -0.1978   14.09\n",
      "     1500    859   -5.5852   -1.9136   14.11\n",
      "     1600    863   -5.5431   -0.4586   14.11\n",
      "     1700    867   -5.5911   -0.7956   14.10\n",
      "     1800    867   -5.5946   -0.6351   14.09\n",
      "     1900    868   -5.5673   -0.1542   14.08\n",
      "     2000    870   -5.6200   -0.6908   14.07\n",
      "# run:   nstep    <N>      kT    <Ep>     <Vir> \n",
      "#  MC    2000    863  0.6940  -4805.715  -676.339\n"
     ]
    },
    {
     "data": {
      "image/png": "[encoded data removed]",
      "text/plain": [
       "<Figure size 900x300 with 2 Axes>"
      ]
     },
     "metadata": {
      "needs_background": "light"
     },
     "output_type": "display_data"
    }
   ],
   "source": [
    "# Gran Canonical Monte Carlo using Metropolis Monte Carlo with constant NVT  [ mode ? ]\n",
    "from GC_lj import gclj\n",
    "gclj(nstep=2000, mux=0.0075, rho=0.84, m=6, kt=0.694, delta=0.1, freq=100)"
   ]
  },
  {
   "cell_type": "code",
   "execution_count": 7,
   "metadata": {},
   "outputs": [
    {
     "name": "stdout",
     "output_type": "stream",
     "text": [
      "# temperature kt =  0.6940\n",
      "# maximum displacement =  0.1000\n",
      "# number of moves per particle for this run ns =20000\n",
      "# reference side of the cubic MD-box L(0) =  10.0943 \n",
      "# initial number of particles  N = 854 \n",
      "# initial density rho =  0.8303 \n",
      "# initial values enep = -4704.382 virial = -1217.110\n",
      "     'pas'    'N'    'enep'  'virial'   'acc'\n",
      "     1000    847   -5.4748   -1.7683   14.41\n",
      "     2000    853   -5.4871   -1.0459   14.45\n",
      "     3000    854   -5.4856   -1.0502   14.44\n",
      "     4000    851   -5.4810   -1.3252   14.42\n",
      "     5000    860   -5.5681   -1.2451   14.42\n",
      "     6000    851   -5.5519   -2.2758   14.42\n",
      "     7000    855   -5.5255   -1.3032   14.41\n",
      "     8000    860   -5.5399   -0.9074   14.37\n",
      "     9000    845   -5.4444   -1.4597   14.38\n",
      "    10000    832   -5.3472   -1.7963   14.42\n",
      "    11000    844   -5.4031   -0.7607   14.43\n",
      "    12000    851   -5.5057   -1.6536   14.45\n",
      "    13000    859   -5.5742   -1.3767   14.44\n",
      "    14000    850   -5.4984   -1.7226   14.45\n",
      "    15000    851   -5.4932   -1.4042   14.44\n",
      "    16000    854   -5.5132   -1.3974   14.43\n",
      "    17000    852   -5.4799   -1.1100   14.43\n",
      "    18000    845   -5.4736   -1.8576   14.44\n",
      "    19000    847   -5.4759   -1.9044   14.45\n",
      "    20000    851   -5.4954   -1.4713   14.46\n",
      "# run:   nstep    <N>      kT    <Ep>     <Vir> \n",
      "#  MC   20000    849  0.6940  -4659.345  -1256.203\n"
     ]
    },
    {
     "data": {
      "image/png": "[encoded data removed]",
      "text/plain": [
       "<Figure size 900x300 with 2 Axes>"
      ]
     },
     "metadata": {
      "needs_background": "light"
     },
     "output_type": "display_data"
    }
   ],
   "source": [
    "# Gran Canonical Monte Carlo using Metropolis Monte Carlo with constant NVT  [ mode ? ]\n",
    "from GC_lj import gclj\n",
    "gclj(nstep=20000, mux=0.005, rho=0.84, m=6, kt=0.694, delta=0.1, freq=1000)"
   ]
  },
  {
   "cell_type": "code",
   "execution_count": null,
   "metadata": {},
   "outputs": [],
   "source": [
    "# Gran Canonical Monte Carlo using Metropolis Monte Carlo with constant NVT  [ mode ? ]\n",
    "from GC_lj import gclj\n",
    "gclj(nstep=20000, mux=0.007, rho=0.84, m=6, kt=0.694, delta=0.1, freq=1000)"
   ]
  },
  {
   "cell_type": "markdown",
   "metadata": {},
   "source": [
    "### Molecular dynamics at constant pressure and enthalpy using velocity-Verlet-like algorithm"
   ]
  },
  {
   "cell_type": "code",
   "execution_count": null,
   "metadata": {},
   "outputs": [],
   "source": [
    "# re-starting a new simulation with initial condition from fcc lattice [mode=0]\n",
    "from NVT_lj import mdlj\n",
    "mdlj(nstep=2000, rho=0.84, m=6, kt=0.694, kt_init=.694, dt=0.005, freq=200, mode=0)"
   ]
  },
  {
   "cell_type": "code",
   "execution_count": null,
   "metadata": {},
   "outputs": [],
   "source": [
    "# continuation using Nosé(-Hoower) constant temperature dynamics [mode=2]\n",
    "from APR_lj import mdlj\n",
    "mdlj(nstep=2000, rho=0.84, m=6, kt=0.694, pres=1., dt=0.005, freq=200, mode=2)"
   ]
  },
  {
   "cell_type": "code",
   "execution_count": null,
   "metadata": {},
   "outputs": [],
   "source": []
  }
 ],
 "metadata": {
  "kernelspec": {
   "display_name": "Python 3 (ipykernel)",
   "language": "python",
   "name": "python3"
  },
  "language_info": {
   "codemirror_mode": {
    "name": "ipython",
    "version": 3
   },
   "file_extension": ".py",
   "mimetype": "text/x-python",
   "name": "python",
   "nbconvert_exporter": "python",
   "pygments_lexer": "ipython3",
   "version": "3.9.12"
  }
 },
 "nbformat": 4,
 "nbformat_minor": 4
}

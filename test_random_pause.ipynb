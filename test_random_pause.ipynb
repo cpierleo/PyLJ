{
 "cells": [
  {
   "cell_type": "code",
   "execution_count": null,
   "id": "worldwide-september",
   "metadata": {},
   "outputs": [],
   "source": [
    "from numpy import sqrt, rint, zeros, random, zeros, ones"
   ]
  },
  {
   "cell_type": "code",
   "execution_count": null,
   "id": "practical-phoenix",
   "metadata": {},
   "outputs": [],
   "source": [
    "N=10"
   ]
  },
  {
   "cell_type": "code",
   "execution_count": null,
   "id": "selected-beginning",
   "metadata": {},
   "outputs": [],
   "source": [
    "rx=zeros(N)"
   ]
  },
  {
   "cell_type": "code",
   "execution_count": null,
   "id": "ready-objective",
   "metadata": {},
   "outputs": [],
   "source": [
    "rx=random.normal(0.5, 2, N)"
   ]
  },
  {
   "cell_type": "code",
   "execution_count": null,
   "id": "proper-think",
   "metadata": {},
   "outputs": [],
   "source": [
    "rx"
   ]
  },
  {
   "cell_type": "code",
   "execution_count": null,
   "id": "popular-merchant",
   "metadata": {},
   "outputs": [],
   "source": [
    "r2max=1."
   ]
  },
  {
   "cell_type": "code",
   "execution_count": null,
   "id": "minimal-franchise",
   "metadata": {
    "scrolled": false
   },
   "outputs": [],
   "source": [
    "for k in range(N-1) :\n",
    "    j=k+1\n",
    "    #for j in range(k+1,N) :\n",
    "    dx = rx[k]-rx[j:N]\n",
    "    print(dx)\n",
    "    input(\"Press Enter to continue...\")\n",
    "    dx[...]-= rint(dx)\n",
    "    print(dx)\n",
    "    input(\"Press Enter to continue...\")\n",
    "    r2 = dx*dx\n",
    "    # using the mask array \"b\" for speedup\n",
    "    b = r2 < r2max\n",
    "    print(b)\n",
    "    input(\"Press Enter to continue...\")\n",
    "    lm  = sqrt(r2[b])\n",
    "    print('lm=', lm)\n",
    "    #if lm<self.kg :\n",
    "    for elm in lm :\n",
    "        print(elm)"
   ]
  },
  {
   "cell_type": "code",
   "execution_count": null,
   "id": "laughing-working",
   "metadata": {},
   "outputs": [],
   "source": [
    "N"
   ]
  },
  {
   "cell_type": "code",
   "execution_count": null,
   "id": "9dd5cb92",
   "metadata": {},
   "outputs": [],
   "source": [
    "npmax=5\n",
    "from numpy import cos, sin, pi"
   ]
  },
  {
   "cell_type": "code",
   "execution_count": null,
   "id": "bcc8f6fa",
   "metadata": {},
   "outputs": [],
   "source": [
    "cp = zeros((2*npmax+1,N))\n",
    "cp[npmax,] = 1.0\n",
    "sp = zeros((2*npmax+1,N))\n"
   ]
  },
  {
   "cell_type": "code",
   "execution_count": null,
   "id": "c9efd7bb",
   "metadata": {
    "scrolled": true
   },
   "outputs": [],
   "source": [
    "cp"
   ]
  },
  {
   "cell_type": "code",
   "execution_count": null,
   "id": "92328f05",
   "metadata": {},
   "outputs": [],
   "source": [
    "sp"
   ]
  },
  {
   "cell_type": "code",
   "execution_count": null,
   "id": "f4658582",
   "metadata": {},
   "outputs": [],
   "source": [
    "cp[npmax+1,] = cos(2*pi*rx)\n",
    "sp[npmax+1,] = sin(2*pi*rx)"
   ]
  },
  {
   "cell_type": "code",
   "execution_count": null,
   "id": "8c5dd689",
   "metadata": {},
   "outputs": [],
   "source": [
    "cp"
   ]
  },
  {
   "cell_type": "code",
   "execution_count": null,
   "id": "eb838e60",
   "metadata": {},
   "outputs": [],
   "source": [
    "sp"
   ]
  },
  {
   "cell_type": "code",
   "execution_count": null,
   "id": "116d15ca",
   "metadata": {},
   "outputs": [],
   "source": [
    "for n in range(npmax-1):\n",
    "    m = npmax+2+n\n",
    "    print(n, m)\n",
    "    cp[m,] = cp[npmax+1,]*cp[m-1,]-sp[npmax+1,]*sp[m-1,]\n",
    "    sp[m,] = sp[npmax+1,]*cp[m-1,]+cp[npmax+1,]*sp[m-1,]"
   ]
  },
  {
   "cell_type": "code",
   "execution_count": null,
   "id": "4561ae2f",
   "metadata": {},
   "outputs": [],
   "source": [
    "cp"
   ]
  },
  {
   "cell_type": "code",
   "execution_count": null,
   "id": "01a0cc5a",
   "metadata": {},
   "outputs": [],
   "source": [
    "sp"
   ]
  },
  {
   "cell_type": "code",
   "execution_count": null,
   "id": "5931ade7",
   "metadata": {},
   "outputs": [],
   "source": [
    "for n in range(1,npmax+1):\n",
    "    mm = npmax-n\n",
    "    mp = npmax+n\n",
    "    print(mp,mm)\n",
    "    cp[mm,] = cp[mp,]\n",
    "    sp[mm,] = -sp[mp,]"
   ]
  },
  {
   "cell_type": "code",
   "execution_count": null,
   "id": "e447a55a",
   "metadata": {},
   "outputs": [],
   "source": [
    "cp"
   ]
  },
  {
   "cell_type": "code",
   "execution_count": null,
   "id": "caeb962a",
   "metadata": {},
   "outputs": [],
   "source": [
    "sp"
   ]
  },
  {
   "cell_type": "code",
   "execution_count": null,
   "id": "b175b24d",
   "metadata": {},
   "outputs": [],
   "source": []
  }
 ],
 "metadata": {
  "kernelspec": {
   "display_name": "Python 3 (ipykernel)",
   "language": "python",
   "name": "python3"
  },
  "language_info": {
   "codemirror_mode": {
    "name": "ipython",
    "version": 3
   },
   "file_extension": ".py",
   "mimetype": "text/x-python",
   "name": "python",
   "nbconvert_exporter": "python",
   "pygments_lexer": "ipython3",
   "version": "3.9.7"
  }
 },
 "nbformat": 4,
 "nbformat_minor": 5
}

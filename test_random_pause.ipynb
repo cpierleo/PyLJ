{
 "cells": [
  {
   "cell_type": "code",
   "execution_count": null,
   "id": "worldwide-september",
   "metadata": {},
   "outputs": [],
   "source": [
    "from numpy import sqrt, rint, zeros, random, zeros, ones"
   ]
  },
  {
   "cell_type": "code",
   "execution_count": null,
   "id": "practical-phoenix",
   "metadata": {},
   "outputs": [],
   "source": [
    "N=10"
   ]
  },
  {
   "cell_type": "code",
   "execution_count": null,
   "id": "selected-beginning",
   "metadata": {},
   "outputs": [],
   "source": [
    "rx=zeros(N)"
   ]
  },
  {
   "cell_type": "code",
   "execution_count": null,
   "id": "ready-objective",
   "metadata": {},
   "outputs": [],
   "source": [
    "rx=random.normal(0.5, 2, N)"
   ]
  },
  {
   "cell_type": "code",
   "execution_count": null,
   "id": "popular-merchant",
   "metadata": {},
   "outputs": [],
   "source": [
    "r2max=1."
   ]
  },
  {
   "cell_type": "code",
   "execution_count": null,
   "id": "fd2185f6-23cd-4ea9-95a4-981838b7d4fb",
   "metadata": {},
   "outputs": [],
   "source": [
    "print(rx)"
   ]
  },
  {
   "cell_type": "code",
   "execution_count": null,
   "id": "minimal-franchise",
   "metadata": {},
   "outputs": [],
   "source": [
    "for k in range(N-1) :\n",
    "    j=k+1\n",
    "    #for j in range(k+1,N) :\n",
    "    dx = rx[k]-rx[j:N]\n",
    "    print('dx=',dx)\n",
    "    input(\"Press Enter to continue...\")\n",
    "    dx[...]-= rint(dx)\n",
    "    print('dx=',dx)\n",
    "    input(\"Press Enter to continue...\")\n",
    "    r2 = dx*dx\n",
    "    # using the mask array \"b\" for speedup\n",
    "    b = r2 < r2max\n",
    "    print('b=',b)\n",
    "    input(\"Press Enter to continue...\")\n",
    "    lm  = sqrt(r2[b])\n",
    "    print('lm=', lm)\n",
    "    #if lm<.kg :\n",
    "    for elm in lm :\n",
    "        print('elm=',elm)"
   ]
  },
  {
   "cell_type": "code",
   "execution_count": 7,
   "id": "laughing-working",
   "metadata": {},
   "outputs": [],
   "source": [
    "N=32"
   ]
  },
  {
   "cell_type": "code",
   "execution_count": 8,
   "id": "dcb32439-5c0a-4243-ba5c-dd68977316a9",
   "metadata": {},
   "outputs": [],
   "source": [
    "from numpy import sqrt, rint, zeros, random, zeros, ones"
   ]
  },
  {
   "cell_type": "code",
   "execution_count": 9,
   "id": "9dd5cb92",
   "metadata": {},
   "outputs": [],
   "source": [
    "npmax=5\n",
    "from numpy import cos, sin, pi"
   ]
  },
  {
   "cell_type": "code",
   "execution_count": 10,
   "id": "bcc8f6fa",
   "metadata": {},
   "outputs": [],
   "source": [
    "cp = zeros((2*npmax+1,N))\n",
    "cp[npmax,] = 1.0\n",
    "sp = zeros((2*npmax+1,N))\n"
   ]
  },
  {
   "cell_type": "code",
   "execution_count": 11,
   "id": "c9efd7bb",
   "metadata": {
    "scrolled": true
   },
   "outputs": [
    {
     "data": {
      "text/plain": [
       "array([[0., 0., 0., 0., 0., 0., 0., 0., 0., 0., 0., 0., 0., 0., 0., 0.,\n",
       "        0., 0., 0., 0., 0., 0., 0., 0., 0., 0., 0., 0., 0., 0., 0., 0.],\n",
       "       [0., 0., 0., 0., 0., 0., 0., 0., 0., 0., 0., 0., 0., 0., 0., 0.,\n",
       "        0., 0., 0., 0., 0., 0., 0., 0., 0., 0., 0., 0., 0., 0., 0., 0.],\n",
       "       [0., 0., 0., 0., 0., 0., 0., 0., 0., 0., 0., 0., 0., 0., 0., 0.,\n",
       "        0., 0., 0., 0., 0., 0., 0., 0., 0., 0., 0., 0., 0., 0., 0., 0.],\n",
       "       [0., 0., 0., 0., 0., 0., 0., 0., 0., 0., 0., 0., 0., 0., 0., 0.,\n",
       "        0., 0., 0., 0., 0., 0., 0., 0., 0., 0., 0., 0., 0., 0., 0., 0.],\n",
       "       [0., 0., 0., 0., 0., 0., 0., 0., 0., 0., 0., 0., 0., 0., 0., 0.,\n",
       "        0., 0., 0., 0., 0., 0., 0., 0., 0., 0., 0., 0., 0., 0., 0., 0.],\n",
       "       [1., 1., 1., 1., 1., 1., 1., 1., 1., 1., 1., 1., 1., 1., 1., 1.,\n",
       "        1., 1., 1., 1., 1., 1., 1., 1., 1., 1., 1., 1., 1., 1., 1., 1.],\n",
       "       [0., 0., 0., 0., 0., 0., 0., 0., 0., 0., 0., 0., 0., 0., 0., 0.,\n",
       "        0., 0., 0., 0., 0., 0., 0., 0., 0., 0., 0., 0., 0., 0., 0., 0.],\n",
       "       [0., 0., 0., 0., 0., 0., 0., 0., 0., 0., 0., 0., 0., 0., 0., 0.,\n",
       "        0., 0., 0., 0., 0., 0., 0., 0., 0., 0., 0., 0., 0., 0., 0., 0.],\n",
       "       [0., 0., 0., 0., 0., 0., 0., 0., 0., 0., 0., 0., 0., 0., 0., 0.,\n",
       "        0., 0., 0., 0., 0., 0., 0., 0., 0., 0., 0., 0., 0., 0., 0., 0.],\n",
       "       [0., 0., 0., 0., 0., 0., 0., 0., 0., 0., 0., 0., 0., 0., 0., 0.,\n",
       "        0., 0., 0., 0., 0., 0., 0., 0., 0., 0., 0., 0., 0., 0., 0., 0.],\n",
       "       [0., 0., 0., 0., 0., 0., 0., 0., 0., 0., 0., 0., 0., 0., 0., 0.,\n",
       "        0., 0., 0., 0., 0., 0., 0., 0., 0., 0., 0., 0., 0., 0., 0., 0.]])"
      ]
     },
     "execution_count": 11,
     "metadata": {},
     "output_type": "execute_result"
    }
   ],
   "source": [
    "cp"
   ]
  },
  {
   "cell_type": "code",
   "execution_count": 12,
   "id": "92328f05",
   "metadata": {},
   "outputs": [
    {
     "data": {
      "text/plain": [
       "array([[0., 0., 0., 0., 0., 0., 0., 0., 0., 0., 0., 0., 0., 0., 0., 0.,\n",
       "        0., 0., 0., 0., 0., 0., 0., 0., 0., 0., 0., 0., 0., 0., 0., 0.],\n",
       "       [0., 0., 0., 0., 0., 0., 0., 0., 0., 0., 0., 0., 0., 0., 0., 0.,\n",
       "        0., 0., 0., 0., 0., 0., 0., 0., 0., 0., 0., 0., 0., 0., 0., 0.],\n",
       "       [0., 0., 0., 0., 0., 0., 0., 0., 0., 0., 0., 0., 0., 0., 0., 0.,\n",
       "        0., 0., 0., 0., 0., 0., 0., 0., 0., 0., 0., 0., 0., 0., 0., 0.],\n",
       "       [0., 0., 0., 0., 0., 0., 0., 0., 0., 0., 0., 0., 0., 0., 0., 0.,\n",
       "        0., 0., 0., 0., 0., 0., 0., 0., 0., 0., 0., 0., 0., 0., 0., 0.],\n",
       "       [0., 0., 0., 0., 0., 0., 0., 0., 0., 0., 0., 0., 0., 0., 0., 0.,\n",
       "        0., 0., 0., 0., 0., 0., 0., 0., 0., 0., 0., 0., 0., 0., 0., 0.],\n",
       "       [0., 0., 0., 0., 0., 0., 0., 0., 0., 0., 0., 0., 0., 0., 0., 0.,\n",
       "        0., 0., 0., 0., 0., 0., 0., 0., 0., 0., 0., 0., 0., 0., 0., 0.],\n",
       "       [0., 0., 0., 0., 0., 0., 0., 0., 0., 0., 0., 0., 0., 0., 0., 0.,\n",
       "        0., 0., 0., 0., 0., 0., 0., 0., 0., 0., 0., 0., 0., 0., 0., 0.],\n",
       "       [0., 0., 0., 0., 0., 0., 0., 0., 0., 0., 0., 0., 0., 0., 0., 0.,\n",
       "        0., 0., 0., 0., 0., 0., 0., 0., 0., 0., 0., 0., 0., 0., 0., 0.],\n",
       "       [0., 0., 0., 0., 0., 0., 0., 0., 0., 0., 0., 0., 0., 0., 0., 0.,\n",
       "        0., 0., 0., 0., 0., 0., 0., 0., 0., 0., 0., 0., 0., 0., 0., 0.],\n",
       "       [0., 0., 0., 0., 0., 0., 0., 0., 0., 0., 0., 0., 0., 0., 0., 0.,\n",
       "        0., 0., 0., 0., 0., 0., 0., 0., 0., 0., 0., 0., 0., 0., 0., 0.],\n",
       "       [0., 0., 0., 0., 0., 0., 0., 0., 0., 0., 0., 0., 0., 0., 0., 0.,\n",
       "        0., 0., 0., 0., 0., 0., 0., 0., 0., 0., 0., 0., 0., 0., 0., 0.]])"
      ]
     },
     "execution_count": 12,
     "metadata": {},
     "output_type": "execute_result"
    }
   ],
   "source": [
    "sp"
   ]
  },
  {
   "cell_type": "code",
   "execution_count": 13,
   "id": "f4658582",
   "metadata": {},
   "outputs": [
    {
     "ename": "NameError",
     "evalue": "name 'rx' is not defined",
     "output_type": "error",
     "traceback": [
      "\u001b[0;31m---------------------------------------------------------------------------\u001b[0m",
      "\u001b[0;31mNameError\u001b[0m                                 Traceback (most recent call last)",
      "Input \u001b[0;32mIn [13]\u001b[0m, in \u001b[0;36m<cell line: 1>\u001b[0;34m()\u001b[0m\n\u001b[0;32m----> 1\u001b[0m cp[npmax\u001b[38;5;241m+\u001b[39m\u001b[38;5;241m1\u001b[39m,] \u001b[38;5;241m=\u001b[39m cos(\u001b[38;5;241m2\u001b[39m\u001b[38;5;241m*\u001b[39mpi\u001b[38;5;241m*\u001b[39m\u001b[43mrx\u001b[49m)\n\u001b[1;32m      2\u001b[0m sp[npmax\u001b[38;5;241m+\u001b[39m\u001b[38;5;241m1\u001b[39m,] \u001b[38;5;241m=\u001b[39m sin(\u001b[38;5;241m2\u001b[39m\u001b[38;5;241m*\u001b[39mpi\u001b[38;5;241m*\u001b[39mrx)\n",
      "\u001b[0;31mNameError\u001b[0m: name 'rx' is not defined"
     ]
    }
   ],
   "source": [
    "cp[npmax+1,] = cos(2*pi*rx)\n",
    "sp[npmax+1,] = sin(2*pi*rx)"
   ]
  },
  {
   "cell_type": "code",
   "execution_count": null,
   "id": "8c5dd689",
   "metadata": {},
   "outputs": [],
   "source": [
    "cp"
   ]
  },
  {
   "cell_type": "code",
   "execution_count": null,
   "id": "eb838e60",
   "metadata": {},
   "outputs": [],
   "source": [
    "sp"
   ]
  },
  {
   "cell_type": "code",
   "execution_count": null,
   "id": "116d15ca",
   "metadata": {},
   "outputs": [],
   "source": [
    "for n in range(npmax):\n",
    "    m = npmax+1+n\n",
    "    print(n, m)\n",
    "    cp[m,] = cp[npmax+1,]*cp[m-1,]-sp[npmax+1,]*sp[m-1,]\n",
    "    sp[m,] = sp[npmax+1,]*cp[m-1,]+cp[npmax+1,]*sp[m-1,]"
   ]
  },
  {
   "cell_type": "code",
   "execution_count": null,
   "id": "4561ae2f",
   "metadata": {},
   "outputs": [],
   "source": [
    "cp"
   ]
  },
  {
   "cell_type": "code",
   "execution_count": null,
   "id": "01a0cc5a",
   "metadata": {},
   "outputs": [],
   "source": [
    "sp"
   ]
  },
  {
   "cell_type": "code",
   "execution_count": null,
   "id": "5931ade7",
   "metadata": {
    "jupyter": {
     "source_hidden": true
    },
    "tags": []
   },
   "outputs": [],
   "source": [
    "for n in range(1,npmax+1):\n",
    "    mm = npmax-n\n",
    "    mp = npmax+n\n",
    "    print(mp,mm)\n",
    "    cp[mm,] = cp[mp,]\n",
    "    sp[mm,] = -sp[mp,]"
   ]
  },
  {
   "cell_type": "code",
   "execution_count": null,
   "id": "e447a55a",
   "metadata": {},
   "outputs": [],
   "source": [
    "cp"
   ]
  },
  {
   "cell_type": "code",
   "execution_count": null,
   "id": "caeb962a",
   "metadata": {},
   "outputs": [],
   "source": [
    "sp"
   ]
  },
  {
   "cell_type": "code",
   "execution_count": 34,
   "id": "b175b24d",
   "metadata": {},
   "outputs": [
    {
     "name": "stdout",
     "output_type": "stream",
     "text": [
      "1\n",
      "2\n",
      "3\n",
      "4\n",
      "5\n",
      "6\n",
      "7\n",
      "8\n",
      "9\n",
      "10\n",
      "11\n"
     ]
    },
    {
     "data": {
      "image/png": "[encoded data removed]",
      "text/plain": [
       "<Figure size 432x288 with 1 Axes>"
      ]
     },
     "metadata": {
      "needs_background": "light"
     },
     "output_type": "display_data"
    }
   ],
   "source": [
    "#from numba import jit\n",
    "import numpy as np\n",
    "import math\n",
    "# import  zeros, rint, cos, sin, ones, pi\n",
    "\n",
    "\n",
    "def fcc(L, m):\n",
    "#from numpy import  random, rint\n",
    "    print( \"# number of lattice cells m^3 = %d\" % (m**3) )\n",
    "    a = L/m\n",
    "    print( \"# lattice parameter a =%f\" % a )\n",
    "    natom = 4*m**3\n",
    "    print( \"# number of particles  %d \" % natom )\n",
    "    print( \"# sides of md-box L = [ %.2f %.2f %.2f ]\" % (a*m, a*m, a*m) )\n",
    "    j  = 0\n",
    "    xi = 0.\n",
    "    yi = 0.\n",
    "    zi = 0.\n",
    "    delta=0.0   #25\n",
    "    rrx = random.normal(0., delta, natom)\n",
    "    rry = random.normal(0., delta, natom)\n",
    "    rrz = random.normal(0., delta, natom)\n",
    "    for nx in range(m) :\n",
    "        for ny in range(m) :\n",
    "            for nz in range(m) :\n",
    "                rx[j] = xi + a*nx + rrx[j]\n",
    "                ry[j] = yi + a*ny + rry[j]             \n",
    "                rz[j] = zi + a*nz + rrz[j]\n",
    "                print( \"  %d   %8.3f   %8.3f   %8.3f \" % (j, rx[j], ry[j], rz[j]) )\n",
    "                # reduced box coordinates in [-0.5:0.5]^3\n",
    "                rx[j]/= L\n",
    "                ry[j]/= L\n",
    "                rz[j]/= L\n",
    "                j +=1\n",
    "                rx[j] = xi + a*nx + rrx[j] + 0.5*a\n",
    "                ry[j] = yi + a*ny + rry[j] + 0.5*a     \n",
    "                rz[j] = zi + a*nz + rrz[j]\n",
    "                print( \"  %d   %8.3f   %8.3f   %8.3f \" % (j, rx[j], ry[j], rz[j]) )\n",
    "                # reduced box coordinates in [-0.5:0.5]^3\n",
    "                rx[j]/= L\n",
    "                ry[j]/= L\n",
    "                rz[j]/= L\n",
    "                j +=1\n",
    "                rx[j] = xi + a*nx + rrx[j] + 0.5*a\n",
    "                ry[j] = yi + a*ny + rry[j]             \n",
    "                rz[j] = zi + a*nz + rrz[j] + 0.5*a\n",
    "                print( \"  %d   %8.3f   %8.3f   %8.3f \" % (j, rx[j], ry[j], rz[j]) )\n",
    "                # reduced box coordinates in [-0.5:0.5]^3\n",
    "                rx[j]/= L\n",
    "                ry[j]/= L\n",
    "                rz[j]/= L\n",
    "                j +=1\n",
    "                rx[j] = xi + a*nx + rrx[j] \n",
    "                ry[j] = yi + a*ny + rry[j] + 0.5*a            \n",
    "                rz[j] = zi + a*nz + rrz[j] + 0.5*a\n",
    "                print( \"  %d   %8.3f   %8.3f    %8.3f \" % (j, rx[j], ry[j], rz[j]) )\n",
    "                # reduced box coordinates in [-0.5:0.5]^3\n",
    "                rx[j]/= L\n",
    "                rx[j]-= rint(rx[j])\n",
    "                ry[j]/= L\n",
    "                ry[j]-= rint(ry[j])\n",
    "                rz[j]/= L\n",
    "                rz[j]-= rint(rz[j])\n",
    "                j +=1\n",
    "    print( \"# end of initial fcc lattice construction\")\n",
    "    return (rx, ry, rz)\n",
    "\n",
    "#@jit(nopython=True, cache=True)\n",
    "#@jit\n",
    "def calcsofk(rx, ry, rz, nmax):\n",
    "    N = rx.size\n",
    "    cp = np.zeros((3, 2 * nmax + 1, N))\n",
    "    sp = np.zeros((3, 2 * nmax + 1, N))\n",
    "    cp[:, 0, :] = 1.0     # this is the k=0 vector\n",
    "    # these are the contribution of the first k-vector (1,0,0) and symmetries.\n",
    "    cp[0, 1, :] = np.cos(2 * np.pi * rx[:])\n",
    "    cp[1, 1, :] = np.cos(2 * np.pi * ry[:])\n",
    "    cp[2, 1, :] = np.cos(2 * np.pi * rz[:])\n",
    "    sp[0, 1, :] = np.sin(2 * np.pi * rx[:])\n",
    "    sp[1, 1, :] = np.sin(2 * np.pi * ry[:])\n",
    "    sp[2, 1, :] = np.sin(2 * np.pi * rz[:])\n",
    "    #\n",
    "    # for n in range(nmax-1):\n",
    "    for m in range(2,nmax+1):\n",
    "        cp[:, m, :] = (cp[:, 1, :] * cp[:, m-1, :] -\n",
    "                       sp[:, 1, :] * sp[:, m-1, :])\n",
    "        sp[:, m, :] = (sp[:, 1, :] * cp[:, m-1, :] +\n",
    "                       cp[:, 1, :] * sp[:, m-1, :])\n",
    "    for m in range(1, nmax+1):\n",
    "        # impose the symmetry of cos and sin along the axes\n",
    "        cp[:, -m, :] = cp[:, m, :]\n",
    "        sp[:, -m, :] = - sp[:, m, :]\n",
    "\n",
    "    # these are the sum of cos and sin over particles.\n",
    "    # indices are along the three directions (nx, ny, nz)\n",
    "    csum = np.zeros((2*nmax+1, 2*nmax+1, 2*nmax+1), dtype=float)\n",
    "    ssum = np.zeros((2*nmax+1, 2*nmax+1, 2*nmax+1), dtype=float)\n",
    "\n",
    "    for nx in range(-nmax,nmax+1):\n",
    "        for ny in range(-nmax,nmax+1):\n",
    "            for nz in range(-nmax,nmax+1):\n",
    "                for k in range(N):\n",
    "                    csum[nx, ny, nz] += ( cp[0, nx, k] * cp[1, ny, k] * cp[2, nz, k]\n",
    "                                        - cp[0, nx, k] * sp[1, ny, k] * sp[2, nz, k]\n",
    "                                        - sp[0, nx, k] * sp[1, ny, k] * cp[2, nz, k]\n",
    "                                        - sp[0, nx, k] * cp[1, ny, k] * sp[2, nz, k])\n",
    "                    ssum[nx, ny, nz] += ( sp[0, nx, k] * cp[1, ny, k] * cp[2, nz, k]\n",
    "                                        + cp[0, nx, k] * sp[1, ny, k] * cp[2, nz, k]\n",
    "                                        + cp[0, nx, k] * cp[1, ny, k] * sp[2, nz, k]\n",
    "                                        - sp[0, nx, k] * sp[1, ny, k] * sp[2, nz, k])\n",
    " \n",
    "    sofk = np.zeros((2*nmax+1, 2*nmax+1, 2*nmax+1), dtype=float)\n",
    "    sofk = (csum**2 + ssum**2) / N\n",
    "    return sofk\n",
    "\n",
    "if __name__ == '__main__':\n",
    "\n",
    "    from matplotlib.pyplot import plot, show\n",
    "    \n",
    "    #rx = np.asarray([1., 0., 0.1])\n",
    "    #ry = np.asarray([0.1, 1.2, 0.2])\n",
    "    #rz = np.asarray([0.3, 0.2, 1.])\n",
    "    nmax=5\n",
    "    sofk=np.zeros((2*nmax+1,2*nmax+1,2*nmax+1))\n",
    "    #rx=np.zeros(N)\n",
    "    #ry=np.zeros(N)\n",
    "    #rz=np.zeros(N)\n",
    "    #rx,ry,rz = fcc(10,2)\n",
    "    with open('trajectory.xyz') as fdat:\n",
    "        count = 0\n",
    "        part_num = int(fdat.readline())\n",
    "        while part_num != '':\n",
    "            part_num = int(part_num)\n",
    "            count += 1\n",
    "            print(count)\n",
    "            rx = np.zeros(part_num)\n",
    "            ry = np.zeros(part_num)\n",
    "            rz = np.zeros(part_num)\n",
    "            #fdat.readline()\n",
    "            Lx, Ly, Lz = [ float(value) for value in fdat.readline().split() ]\n",
    "            for ind in range(part_num):\n",
    "                rx[ind], ry[ind], rz[ind] = [\n",
    "                    float(value) for value in fdat.readline().split()[1:]]\n",
    "            sofk+=calcsofk(rx/Lx,ry/Ly,rz/Lz,nmax)\n",
    "            part_num = fdat.readline()\n",
    "\n",
    "    sofk=sofk/count\n",
    "    nvec = (2*nmax+1)**3\n",
    "    kmod = np.zeros(nvec)\n",
    "    kvec = np.zeros((3,nvec))\n",
    "    sofk_kvec = np.zeros(nvec)\n",
    "    ix=-1\n",
    "    for nx in range(-nmax,nmax+1):\n",
    "        for ny in range(-nmax,nmax+1):\n",
    "            for nz in range(-nmax,nmax+1):\n",
    "                ix += 1\n",
    "                kmod[ix] = 2*np.pi * np.sqrt(nx**2+ny**2+nz**2) / (Lx*Ly*Lz)\n",
    "                kvec[0,ix] = 2 * np.pi * nx / Lx\n",
    "                kvec[1,ix] = 2 * np.pi * ny / Ly\n",
    "                kvec[2,ix] = 2 * np.pi * nz / Lz\n",
    "                sofk_kvec[ix] = sofk[nx,ny,nz]\n",
    "                #print(ix,kmod[ix],sofk_kvec[ix])\n",
    "                 \n",
    "    plot(kmod,sofk_kvec,'b.')\n",
    "    show()\n",
    "    sout=np.column_stack( (kmod,kvec[0,:],kvec[1,:],kvec[2,:],sofk_kvec) )\n",
    "    np.savetxt('sofk.dat',sout, fmt=('%12.7g','%12.7g','%12.7g','%12.7g','%12.7g'), header=\"    '|k|'  'kx' 'ky' 'kz' 'S(k)'\")\n",
    "    \n",
    "#    print('Sk:', calcsofk(rx, ry, rz, 4))"
   ]
  },
  {
   "cell_type": "code",
   "execution_count": null,
   "id": "1bb22528-f57f-46d2-b036-11b014f19f27",
   "metadata": {},
   "outputs": [],
   "source": []
  },
  {
   "cell_type": "code",
   "execution_count": 28,
   "id": "f9f3906a-d69c-47e2-ac1f-1780fc519c77",
   "metadata": {},
   "outputs": [],
   "source": [
    "with open('trajectory.xyz') as fdat:\n",
    "    part_num = int(fdat.readline())\n",
    "    rx = np.zeros(part_num)\n",
    "    ry = np.zeros(part_num)\n",
    "    rz = np.zeros(part_num)\n",
    "    fdat.readline()\n",
    "    for ind in range(part_num):\n",
    "        rx[ind], ry[ind], rz[ind] = [\n",
    "            float(value) for value in fdat.readline().split()[1:]]"
   ]
  },
  {
   "cell_type": "code",
   "execution_count": 34,
   "id": "1686979e",
   "metadata": {
    "scrolled": true
   },
   "outputs": [
    {
     "name": "stdout",
     "output_type": "stream",
     "text": [
      "1\n",
      "2\n",
      "3\n",
      "4\n",
      "5\n",
      "6\n",
      "7\n",
      "8\n",
      "9\n",
      "10\n"
     ]
    }
   ],
   "source": [
    "with open('trajectory.xyz') as fdat:\n",
    "    count = 0\n",
    "    part_num = int(fdat.readline())\n",
    "    while part_num != '':\n",
    "        part_num = int(part_num)\n",
    "        count += 1\n",
    "        print(count)\n",
    "        rx = np.zeros(part_num)\n",
    "        ry = np.zeros(part_num)\n",
    "        rz = np.zeros(part_num)\n",
    "        fdat.readline()\n",
    "        for ind in range(part_num):\n",
    "            rx[ind], ry[ind], rz[ind] = [\n",
    "                float(value) for value in fdat.readline().split()[1:]]\n",
    "        part_num = fdat.readline()"
   ]
  },
  {
   "cell_type": "code",
   "execution_count": null,
   "id": "5c5e3826",
   "metadata": {},
   "outputs": [],
   "source": []
  },
  {
   "cell_type": "code",
   "execution_count": null,
   "id": "48e413bf-2497-4555-94fc-b797704078cb",
   "metadata": {},
   "outputs": [],
   "source": []
  }
 ],
 "metadata": {
  "kernelspec": {
   "display_name": "Python 3 (ipykernel)",
   "language": "python",
   "name": "python3"
  },
  "language_info": {
   "codemirror_mode": {
    "name": "ipython",
    "version": 3
   },
   "file_extension": ".py",
   "mimetype": "text/x-python",
   "name": "python",
   "nbconvert_exporter": "python",
   "pygments_lexer": "ipython3",
   "version": "3.9.12"
  },
  "toc-autonumbering": true,
  "toc-showmarkdowntxt": true
 },
 "nbformat": 4,
 "nbformat_minor": 5
}

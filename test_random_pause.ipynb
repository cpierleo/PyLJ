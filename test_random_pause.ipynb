{
 "cells": [
  {
   "cell_type": "code",
   "execution_count": null,
   "id": "worldwide-september",
   "metadata": {},
   "outputs": [],
   "source": [
    "from numpy import sqrt, rint, zeros, random, zeros, ones"
   ]
  },
  {
   "cell_type": "code",
   "execution_count": null,
   "id": "practical-phoenix",
   "metadata": {},
   "outputs": [],
   "source": [
    "N=10"
   ]
  },
  {
   "cell_type": "code",
   "execution_count": null,
   "id": "selected-beginning",
   "metadata": {},
   "outputs": [],
   "source": [
    "rx=zeros(N)"
   ]
  },
  {
   "cell_type": "code",
   "execution_count": null,
   "id": "ready-objective",
   "metadata": {},
   "outputs": [],
   "source": [
    "rx=random.normal(0.5, 2, N)"
   ]
  },
  {
   "cell_type": "code",
   "execution_count": null,
   "id": "proper-think",
   "metadata": {},
   "outputs": [],
   "source": [
    "rx=ones(N)"
   ]
  },
  {
   "cell_type": "code",
   "execution_count": null,
   "id": "popular-merchant",
   "metadata": {},
   "outputs": [],
   "source": [
    "r2max=1."
   ]
  },
  {
   "cell_type": "code",
   "execution_count": null,
   "id": "1d00b702",
   "metadata": {},
   "outputs": [],
   "source": [
    "rx"
   ]
  },
  {
   "cell_type": "code",
   "execution_count": null,
   "id": "minimal-franchise",
   "metadata": {
    "scrolled": false
   },
   "outputs": [],
   "source": [
    "for k in range(N-1) :\n",
    "    j=k+1\n",
    "    #for j in range(k+1,N) :\n",
    "    dx = rx[k]-rx[j:N]\n",
    "    print(dx)\n",
    "    input(\"Press Enter to continue...\")\n",
    "    dx[...]-= rint(dx)\n",
    "    print(dx)\n",
    "    input(\"Press Enter to continue...\")\n",
    "    r2 = dx*dx\n",
    "    # using the mask array \"b\" for speedup\n",
    "    b = r2 < r2max\n",
    "    print(b)\n",
    "    input(\"Press Enter to continue...\")\n",
    "    lm  = sqrt(r2[b])\n",
    "    print('lm=', lm)\n",
    "    #if lm<self.kg :\n",
    "    for elm in lm :\n",
    "        print(elm)"
   ]
  },
  {
   "cell_type": "code",
   "execution_count": null,
   "id": "laughing-working",
   "metadata": {},
   "outputs": [],
   "source": [
    "N"
   ]
  },
  {
   "cell_type": "code",
   "execution_count": null,
   "id": "9dd5cb92",
   "metadata": {},
   "outputs": [],
   "source": [
    "npmax=5\n",
    "from numpy import cos, sin, pi"
   ]
  },
  {
   "cell_type": "code",
   "execution_count": null,
   "id": "bcc8f6fa",
   "metadata": {},
   "outputs": [],
   "source": [
    "cp = zeros((2*npmax+1,N))\n",
    "cp[npmax,] = 1.0\n",
    "sp = zeros((2*npmax+1,N))\n"
   ]
  },
  {
   "cell_type": "code",
   "execution_count": null,
   "id": "c9efd7bb",
   "metadata": {
    "scrolled": true
   },
   "outputs": [],
   "source": [
    "cp"
   ]
  },
  {
   "cell_type": "code",
   "execution_count": null,
   "id": "92328f05",
   "metadata": {},
   "outputs": [],
   "source": [
    "sp"
   ]
  },
  {
   "cell_type": "code",
   "execution_count": null,
   "id": "f4658582",
   "metadata": {},
   "outputs": [],
   "source": [
    "cp[npmax+1,] = cos(2*pi*rx)\n",
    "sp[npmax+1,] = sin(2*pi*rx)"
   ]
  },
  {
   "cell_type": "code",
   "execution_count": null,
   "id": "8c5dd689",
   "metadata": {},
   "outputs": [],
   "source": [
    "cp"
   ]
  },
  {
   "cell_type": "code",
   "execution_count": null,
   "id": "eb838e60",
   "metadata": {},
   "outputs": [],
   "source": [
    "sp"
   ]
  },
  {
   "cell_type": "code",
   "execution_count": null,
   "id": "116d15ca",
   "metadata": {},
   "outputs": [],
   "source": [
    "for n in range(npmax):\n",
    "    m = npmax+1+n\n",
    "    print(n, m)\n",
    "    cp[m,] = cp[npmax+1,]*cp[m-1,]-sp[npmax+1,]*sp[m-1,]\n",
    "    sp[m,] = sp[npmax+1,]*cp[m-1,]+cp[npmax+1,]*sp[m-1,]"
   ]
  },
  {
   "cell_type": "code",
   "execution_count": null,
   "id": "4561ae2f",
   "metadata": {},
   "outputs": [],
   "source": [
    "cp"
   ]
  },
  {
   "cell_type": "code",
   "execution_count": null,
   "id": "01a0cc5a",
   "metadata": {},
   "outputs": [],
   "source": [
    "sp"
   ]
  },
  {
   "cell_type": "code",
   "execution_count": null,
   "id": "5931ade7",
   "metadata": {},
   "outputs": [],
   "source": [
    "for n in range(1,npmax+1):\n",
    "    mm = npmax-n\n",
    "    mp = npmax+n\n",
    "    print(mp,mm)\n",
    "    cp[mm,] = cp[mp,]\n",
    "    sp[mm,] = -sp[mp,]"
   ]
  },
  {
   "cell_type": "code",
   "execution_count": null,
   "id": "e447a55a",
   "metadata": {},
   "outputs": [],
   "source": [
    "cp"
   ]
  },
  {
   "cell_type": "code",
   "execution_count": null,
   "id": "caeb962a",
   "metadata": {},
   "outputs": [],
   "source": [
    "sp"
   ]
  },
  {
   "cell_type": "code",
   "execution_count": 18,
   "id": "b175b24d",
   "metadata": {},
   "outputs": [
    {
     "name": "stdout",
     "output_type": "stream",
     "text": [
      "0 10.882796185405306 2.7453559924999307\n",
      "1 8.885765876316732 0.3333333333333333\n",
      "2 10.882796185405306 2.2847006554165605\n",
      "3 8.885765876316732 1.539344662916631\n",
      "4 6.283185307179586 1.2546440075000695\n",
      "5 8.885765876316732 2.7453559924999307\n",
      "6 10.882796185405306 2.2847006554165614\n",
      "7 8.885765876316732 0.7939886704167017\n",
      "8 10.882796185405306 2.74535599249993\n",
      "9 8.885765876316732 1.2546440075000695\n",
      "10 6.283185307179586 1.539344662916631\n",
      "11 8.885765876316732 2.7453559924999307\n",
      "12 6.283185307179586 0.3333333333333333\n",
      "13 0.0 2.7453559924999307\n",
      "14 6.283185307179586 2.2847006554165605\n",
      "15 8.885765876316732 0.7939886704167017\n",
      "16 6.283185307179586 2.2847006554165614\n",
      "17 8.885765876316732 2.74535599249993\n",
      "18 10.882796185405306 2.0786893258332633\n",
      "19 8.885765876316732 0.8726779962499648\n",
      "20 10.882796185405306 2.74535599249993\n",
      "21 8.885765876316732 0.8726779962499648\n",
      "22 6.283185307179586 2.0786893258332633\n",
      "23 8.885765876316732 2.74535599249993\n",
      "24 10.882796185405306 1.5393446629166316\n",
      "25 8.885765876316732 1.5393446629166316\n",
      "26 10.882796185405306 3.0\n"
     ]
    },
    {
     "data": {
      "image/png": "[encoded data removed]",
      "text/plain": [
       "<Figure size 432x288 with 1 Axes>"
      ]
     },
     "metadata": {
      "needs_background": "light"
     },
     "output_type": "display_data"
    }
   ],
   "source": [
    "from numba import jit\n",
    "import numpy as np\n",
    "import math\n",
    "# import  zeros, rint, cos, sin, ones, pi\n",
    "\n",
    "\n",
    "#@jit(nopython=True, cache=True)\n",
    "# @jit\n",
    "def calcsofk(rx, ry, rz, nmax):\n",
    "\n",
    "    N = rx.size\n",
    "\n",
    "    cp = np.zeros((3, 2 * nmax + 1, N))\n",
    "    sp = np.zeros((3, 2 * nmax + 1, N))\n",
    "    cp[:, nmax, :] = 1.0     # this is the k=0 vector\n",
    "    # these are the contribution of the first k-vector (1,0,0) and symmetries.\n",
    "    cp[0, nmax+1, :] = np.cos(2 * np.pi * rx[:])\n",
    "    cp[1, nmax+1, :] = np.cos(2 * np.pi * ry[:])\n",
    "    cp[2, nmax+1, :] = np.cos(2 * np.pi * rz[:])\n",
    "    sp[0, nmax+1, :] = np.sin(2 * np.pi * rx[:])\n",
    "    sp[1, nmax+1, :] = np.sin(2 * np.pi * ry[:])\n",
    "    sp[2, nmax+1, :] = np.sin(2 * np.pi * rz[:])\n",
    "    #\n",
    "    # for n in range(nmax-1):\n",
    "    for n in range(nmax):\n",
    "        m = nmax + 1 + n\n",
    "        cp[:, m, :] = (cp[:, nmax+1, :] * cp[:, m-1, :] -\n",
    "                       sp[:, nmax+1, :] * sp[:, m-1, :])\n",
    "        sp[:, m, :] = (sp[:, nmax+1, :] * cp[:, m-1, :] +\n",
    "                       cp[:, nmax+1, :] * sp[:, m-1, :])\n",
    "    for n in range(1, nmax+1):\n",
    "        mm = nmax-n\n",
    "        mp = nmax+n\n",
    "        # print(mp,mm)\n",
    "        # impose the symmetry of cos and sin along the axes\n",
    "        cp[:, mm, :] = cp[:, mp, :]\n",
    "        sp[:, mm, :] = - sp[:, mp, :]\n",
    "\n",
    "    # these are the sum of cos and sin over particles.\n",
    "    # indices are along the three directions (nx, ny, nz)\n",
    "    csum = np.zeros((2*nmax+1, 2*nmax+1, 2*nmax+1), dtype=float)\n",
    "    ssum = np.zeros((2*nmax+1, 2*nmax+1, 2*nmax+1), dtype=float)\n",
    "\n",
    "    for k in range(N):\n",
    "        for nx in range(2 * nmax + 1):\n",
    "            for ny in range(2 * nmax + 1):\n",
    "                for nz in range(2 * nmax + 1):\n",
    "                    csum[nx, ny, nz] += (cp[0, nx, k] * cp[1, ny, k] * cp[2, nz, k] -\n",
    "                                         cp[0, nx, k] * sp[1, ny, k] * sp[2, nz, k] -\n",
    "                                         sp[0, nx, k] * sp[1, ny, k] * cp[2, nz, k] +\n",
    "                                         sp[0, nx, k] * cp[1, ny, k] * sp[2, nz, k])\n",
    "                    ssum[nx, ny, nz] += (sp[0, nx, k] * cp[1, ny, k] * cp[2, nz, k] -\n",
    "                                         sp[0, nx, k] * sp[1, ny, k] * sp[2, nz, k] +\n",
    "                                         cp[0, nx, k] * sp[1, ny, k] * cp[2, nz, k] +\n",
    "                                         cp[0, nx, k] * cp[1, ny, k] * sp[2, nz, k])\n",
    " \n",
    "    sofk = np.zeros((2*nmax+1, 2*nmax+1, 2*nmax+1), dtype=float)\n",
    "    sofk = (csum**2 + ssum**2) / N\n",
    "    return sofk\n",
    "    #return (csum**2 + ssum**2) / N\n",
    "\n",
    "if __name__ == '__main__':\n",
    "\n",
    "    from matplotlib.pyplot import plot, show\n",
    "    \n",
    "    rx = np.asarray([1., 0., 0.1])\n",
    "    ry = np.asarray([0.1, 1.2, 0.2])\n",
    "    rz = np.asarray([0.3, 0.2, 1.])\n",
    "    nmax=1\n",
    "    \n",
    "    sofk=calcsofk(rx,ry,rz,nmax)\n",
    "    nvec = (2*nmax+1)**3\n",
    "    kmod = np.zeros(nvec)\n",
    "    kvec = np.zeros((3,nvec))\n",
    "    sofk_kvec = np.zeros(nvec)\n",
    "    ix=-1\n",
    "    for nx in range(2 * nmax + 1):\n",
    "        for ny in range(2 * nmax + 1):\n",
    "            for nz in range(2 * nmax + 1):\n",
    "                ix += 1\n",
    "                kmod[ix] = 2*np.pi * np.sqrt((nx-nmax)**2+(ny-nmax)**2+(nz-nmax)**2)\n",
    "                kvec[0,ix] = 2 * np.pi * (nx-nmax)\n",
    "                kvec[1,ix] = 2 * np.pi * (ny-nmax)\n",
    "                kvec[2,ix] = 2 * np.pi * (nz-nmax)\n",
    "                sofk_kvec[ix] = sofk[nx-nmax,ny-nmax,nz-nmax]\n",
    "                print(ix,kmod[ix],sofk_kvec[ix])\n",
    "                 \n",
    "    plot(kmod,sofk_kvec,'b.')\n",
    "    show()\n",
    "    sout=np.column_stack( (kmod,kvec[0,:],kvec[1,:],kvec[2,:],sofk_kvec) )\n",
    "    np.savetxt('sofk.dat',sout, fmt=('%12.7g','%12.7g','%12.7g','%12.7g','%12.7g'), header=\"    '|k|'  'kx' 'ky' 'kz' 'S(k)'\")\n",
    "    \n",
    "#    print('Sk:', calcsofk(rx, ry, rz, 4))"
   ]
  },
  {
   "cell_type": "code",
   "execution_count": 4,
   "id": "1686979e",
   "metadata": {
    "scrolled": true
   },
   "outputs": [
    {
     "data": {
      "text/plain": [
       "(11, 11, 11)"
      ]
     },
     "execution_count": 4,
     "metadata": {},
     "output_type": "execute_result"
    }
   ],
   "source": [
    "sofk.shape"
   ]
  },
  {
   "cell_type": "code",
   "execution_count": null,
   "id": "5c5e3826",
   "metadata": {},
   "outputs": [],
   "source": []
  }
 ],
 "metadata": {
  "kernelspec": {
   "display_name": "Python 3 (ipykernel)",
   "language": "python",
   "name": "python3"
  },
  "language_info": {
   "codemirror_mode": {
    "name": "ipython",
    "version": 3
   },
   "file_extension": ".py",
   "mimetype": "text/x-python",
   "name": "python",
   "nbconvert_exporter": "python",
   "pygments_lexer": "ipython3",
   "version": "3.9.7"
  }
 },
 "nbformat": 4,
 "nbformat_minor": 5
}

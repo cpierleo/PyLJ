{
 "cells": [
  {
   "cell_type": "code",
   "execution_count": 1,
   "id": "worldwide-september",
   "metadata": {},
   "outputs": [],
   "source": [
    "from numpy import sqrt, rint, zeros, random"
   ]
  },
  {
   "cell_type": "code",
   "execution_count": 2,
   "id": "practical-phoenix",
   "metadata": {},
   "outputs": [],
   "source": [
    "N=10"
   ]
  },
  {
   "cell_type": "code",
   "execution_count": 3,
   "id": "selected-beginning",
   "metadata": {},
   "outputs": [],
   "source": [
    "rx=zeros(N)"
   ]
  },
  {
   "cell_type": "code",
   "execution_count": 4,
   "id": "ready-objective",
   "metadata": {},
   "outputs": [],
   "source": [
    "rx=random.normal(0.5, 2, N)"
   ]
  },
  {
   "cell_type": "code",
   "execution_count": 5,
   "id": "proper-think",
   "metadata": {},
   "outputs": [
    {
     "data": {
      "text/plain": [
       "array([ 0.62081603,  1.21786026,  0.39339803, -0.18783171,  0.41111976,\n",
       "        0.07724058, -2.22153625,  1.1158829 ,  2.61863016,  1.80251036])"
      ]
     },
     "execution_count": 5,
     "metadata": {},
     "output_type": "execute_result"
    }
   ],
   "source": [
    "rx"
   ]
  },
  {
   "cell_type": "code",
   "execution_count": 6,
   "id": "popular-merchant",
   "metadata": {},
   "outputs": [],
   "source": [
    "r2max=1."
   ]
  },
  {
   "cell_type": "code",
   "execution_count": 7,
   "id": "minimal-franchise",
   "metadata": {
    "scrolled": false
   },
   "outputs": [
    {
     "name": "stdout",
     "output_type": "stream",
     "text": [
      "[-0.59704423  0.22741801  0.80864774  0.20969628  0.54357546  2.84235228\n",
      " -0.49506687 -1.99781413 -1.18169433]\n",
      "Press Enter to continue...\n",
      "[ 0.40295577  0.22741801 -0.19135226  0.20969628 -0.45642454 -0.15764772\n",
      " -0.49506687  0.00218587 -0.18169433]\n",
      "Press Enter to continue...\n",
      "[ True  True  True  True  True  True  True  True  True]\n",
      "Press Enter to continue...\n",
      "lm= [0.40295577 0.22741801 0.19135226 0.20969628 0.45642454 0.15764772\n",
      " 0.49506687 0.00218587 0.18169433]\n",
      "0.4029557723953241\n",
      "0.22741800573574766\n",
      "0.19135225515542476\n",
      "0.20969627632346266\n",
      "0.45642454369492214\n",
      "0.1576477165994068\n",
      "0.4950668716357569\n",
      "0.0021858712617586207\n",
      "0.18169433167426785\n",
      "[ 0.82446223  1.40569197  0.8067405   1.14061968  3.43939651  0.10197736\n",
      " -1.4007699  -0.5846501 ]\n",
      "Press Enter to continue...\n",
      "[-0.17553777  0.40569197 -0.1932595   0.14061968  0.43939651  0.10197736\n",
      " -0.4007699   0.4153499 ]\n",
      "Press Enter to continue...\n",
      "[ True  True  True  True  True  True  True  True]\n",
      "Press Enter to continue...\n",
      "lm= [0.17553777 0.40569197 0.1932595  0.14061968 0.43939651 0.10197736\n",
      " 0.4007699  0.4153499 ]\n",
      "0.17553776665957643\n",
      "0.40569197244925115\n",
      "0.19325949607186144\n",
      "0.14061968390975377\n",
      "0.4393965110052691\n",
      "0.10197735596891899\n",
      "0.4007699011335655\n",
      "0.41534989593040805\n",
      "[ 0.58122974 -0.01772173  0.31615745  2.61493428 -0.72248488 -2.22523213\n",
      " -1.40911234]\n",
      "Press Enter to continue...\n",
      "[-0.41877026 -0.01772173  0.31615745 -0.38506572  0.27751512 -0.22523213\n",
      " -0.40911234]\n",
      "Press Enter to continue...\n",
      "[ True  True  True  True  True  True  True]\n",
      "Press Enter to continue...\n",
      "lm= [0.41877026 0.01772173 0.31615745 0.38506572 0.27751512 0.22523213\n",
      " 0.40911234]\n",
      "0.4187702608911724\n",
      "0.017721729412285003\n",
      "0.31615745056933026\n",
      "0.38506572233515435\n",
      "0.2775151226284954\n",
      "0.22523213447398893\n",
      "0.4091123374100154\n",
      "[-0.59895147 -0.26507229  2.03370454 -1.30371462 -2.80646187 -1.99034208]\n",
      "Press Enter to continue...\n",
      "[ 0.40104853 -0.26507229  0.03370454 -0.30371462  0.19353813  0.00965792]\n",
      "Press Enter to continue...\n",
      "[ True  True  True  True  True  True]\n",
      "Press Enter to continue...\n",
      "lm= [0.40104853 0.26507229 0.03370454 0.30371462 0.19353813 0.00965792]\n",
      "0.4010485314788874\n",
      "0.2650722885394973\n",
      "0.03370453855601774\n",
      "0.30371461648033216\n",
      "0.1935381264171836\n",
      "0.009657923481156905\n",
      "[ 0.33387918  2.63265601 -0.70476315 -2.20751041 -1.39139061]\n",
      "Press Enter to continue...\n",
      "[ 0.33387918 -0.36734399  0.29523685 -0.20751041 -0.39139061]\n",
      "Press Enter to continue...\n",
      "[ True  True  True  True  True]\n",
      "Press Enter to continue...\n",
      "lm= [0.33387918 0.36734399 0.29523685 0.20751041 0.39139061]\n",
      "0.33387917998161526\n",
      "0.36734399292286923\n",
      "0.29523685204078043\n",
      "0.20751040506170426\n",
      "0.3913906079977305\n",
      "[ 2.29877683 -1.03864233 -2.54138959 -1.72526979]\n",
      "Press Enter to continue...\n",
      "[ 0.29877683 -0.03864233  0.45861041  0.27473021]\n",
      "Press Enter to continue...\n",
      "[ True  True  True  True]\n",
      "Press Enter to continue...\n",
      "lm= [0.29877683 0.03864233 0.45861041 0.27473021]\n",
      "0.29877682709551534\n",
      "0.038642327940834775\n",
      "0.45861041495668076\n",
      "0.2747302120206543\n",
      "[-3.33741916 -4.84016641 -4.02404662]\n",
      "Press Enter to continue...\n",
      "[-0.33741916  0.15983359 -0.02404662]\n",
      "Press Enter to continue...\n",
      "[ True  True  True]\n",
      "Press Enter to continue...\n",
      "lm= [0.33741916 0.15983359 0.02404662]\n",
      "0.3374191550363501\n",
      "0.15983358786116497\n",
      "0.02404661507486061\n",
      "[-1.50274726 -0.68662746]\n",
      "Press Enter to continue...\n",
      "[0.49725274 0.31337254]\n",
      "Press Enter to continue...\n",
      "[ True  True]\n",
      "Press Enter to continue...\n",
      "lm= [0.49725274 0.31337254]\n",
      "0.49725274289751553\n",
      "0.31337253996148906\n",
      "[0.8161198]\n",
      "Press Enter to continue...\n",
      "[-0.1838802]\n",
      "Press Enter to continue...\n",
      "[ True]\n",
      "Press Enter to continue...\n",
      "lm= [0.1838802]\n",
      "0.18388020293602647\n"
     ]
    }
   ],
   "source": [
    "for k in range(N-1) :\n",
    "    j=k+1\n",
    "    #for j in range(k+1,N) :\n",
    "    dx = rx[k]-rx[j:N]\n",
    "    print(dx)\n",
    "    input(\"Press Enter to continue...\")\n",
    "    dx[...]-= rint(dx)\n",
    "    print(dx)\n",
    "    input(\"Press Enter to continue...\")\n",
    "    r2 = dx*dx\n",
    "    # using the mask array \"b\" for speedup\n",
    "    b = r2 < r2max\n",
    "    print(b)\n",
    "    input(\"Press Enter to continue...\")\n",
    "    lm  = sqrt(r2[b])\n",
    "    print('lm=', lm)\n",
    "    #if lm<self.kg :\n",
    "    for elm in lm :\n",
    "        print(elm)"
   ]
  },
  {
   "cell_type": "code",
   "execution_count": 8,
   "id": "hungry-attention",
   "metadata": {},
   "outputs": [
    {
     "name": "stdout",
     "output_type": "stream",
     "text": [
      "Object `numba.jit` not found.\n"
     ]
    }
   ],
   "source": [
    "numba.jit?"
   ]
  },
  {
   "cell_type": "code",
   "execution_count": 9,
   "id": "modern-reputation",
   "metadata": {},
   "outputs": [],
   "source": [
    "import numba"
   ]
  },
  {
   "cell_type": "code",
   "execution_count": 10,
   "id": "grateful-input",
   "metadata": {},
   "outputs": [],
   "source": [
    "numba.jit?"
   ]
  },
  {
   "cell_type": "code",
   "execution_count": null,
   "id": "laughing-working",
   "metadata": {},
   "outputs": [],
   "source": []
  }
 ],
 "metadata": {
  "kernelspec": {
   "display_name": "Python 3 (ipykernel)",
   "language": "python",
   "name": "python3"
  },
  "language_info": {
   "codemirror_mode": {
    "name": "ipython",
    "version": 3
   },
   "file_extension": ".py",
   "mimetype": "text/x-python",
   "name": "python",
   "nbconvert_exporter": "python",
   "pygments_lexer": "ipython3",
   "version": "3.9.7"
  }
 },
 "nbformat": 4,
 "nbformat_minor": 5
}
